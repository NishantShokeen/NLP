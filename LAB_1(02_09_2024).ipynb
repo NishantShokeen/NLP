{
  "nbformat": 4,
  "nbformat_minor": 0,
  "metadata": {
    "colab": {
      "provenance": [],
      "include_colab_link": true
    },
    "kernelspec": {
      "name": "python3",
      "display_name": "Python 3"
    },
    "language_info": {
      "name": "python"
    }
  },
  "cells": [
    {
      "cell_type": "markdown",
      "metadata": {
        "id": "view-in-github",
        "colab_type": "text"
      },
      "source": [
        "<a href=\"https://colab.research.google.com/github/NishantShokeen/NLP/blob/main/LAB_1(02_09_2024).ipynb\" target=\"_parent\"><img src=\"https://colab.research.google.com/assets/colab-badge.svg\" alt=\"Open In Colab\"/></a>"
      ]
    },
    {
      "cell_type": "code",
      "execution_count": null,
      "metadata": {
        "id": "mAtsq8dnyxJO",
        "colab": {
          "base_uri": "https://localhost:8080/"
        },
        "outputId": "ee6c8c72-7ebf-4706-83cb-488b7267eabb"
      },
      "outputs": [
        {
          "output_type": "stream",
          "name": "stdout",
          "text": [
            "Requirement already satisfied: nltk in /usr/local/lib/python3.10/dist-packages (3.8.1)\n",
            "Requirement already satisfied: click in /usr/local/lib/python3.10/dist-packages (from nltk) (8.1.7)\n",
            "Requirement already satisfied: joblib in /usr/local/lib/python3.10/dist-packages (from nltk) (1.4.2)\n",
            "Requirement already satisfied: regex>=2021.8.3 in /usr/local/lib/python3.10/dist-packages (from nltk) (2024.5.15)\n",
            "Requirement already satisfied: tqdm in /usr/local/lib/python3.10/dist-packages (from nltk) (4.66.5)\n"
          ]
        }
      ],
      "source": [
        "!pip install nltk"
      ]
    },
    {
      "cell_type": "code",
      "source": [
        "import nltk"
      ],
      "metadata": {
        "id": "x1pFpYAdzNYb"
      },
      "execution_count": null,
      "outputs": []
    },
    {
      "cell_type": "code",
      "source": [
        "nltk.download('all')"
      ],
      "metadata": {
        "colab": {
          "base_uri": "https://localhost:8080/"
        },
        "id": "u1IMunfbzPSp",
        "outputId": "d54cfa29-7d68-41b9-9b89-021ea215cec2"
      },
      "execution_count": null,
      "outputs": [
        {
          "output_type": "stream",
          "name": "stderr",
          "text": [
            "[nltk_data] Downloading collection 'all'\n",
            "[nltk_data]    | \n",
            "[nltk_data]    | Downloading package abc to /root/nltk_data...\n",
            "[nltk_data]    |   Unzipping corpora/abc.zip.\n",
            "[nltk_data]    | Downloading package alpino to /root/nltk_data...\n",
            "[nltk_data]    |   Unzipping corpora/alpino.zip.\n",
            "[nltk_data]    | Downloading package averaged_perceptron_tagger to\n",
            "[nltk_data]    |     /root/nltk_data...\n",
            "[nltk_data]    |   Unzipping taggers/averaged_perceptron_tagger.zip.\n",
            "[nltk_data]    | Downloading package averaged_perceptron_tagger_eng to\n",
            "[nltk_data]    |     /root/nltk_data...\n",
            "[nltk_data]    |   Unzipping\n",
            "[nltk_data]    |       taggers/averaged_perceptron_tagger_eng.zip.\n",
            "[nltk_data]    | Downloading package averaged_perceptron_tagger_ru to\n",
            "[nltk_data]    |     /root/nltk_data...\n",
            "[nltk_data]    |   Unzipping\n",
            "[nltk_data]    |       taggers/averaged_perceptron_tagger_ru.zip.\n",
            "[nltk_data]    | Downloading package averaged_perceptron_tagger_rus to\n",
            "[nltk_data]    |     /root/nltk_data...\n",
            "[nltk_data]    |   Unzipping\n",
            "[nltk_data]    |       taggers/averaged_perceptron_tagger_rus.zip.\n",
            "[nltk_data]    | Downloading package basque_grammars to\n",
            "[nltk_data]    |     /root/nltk_data...\n",
            "[nltk_data]    |   Unzipping grammars/basque_grammars.zip.\n",
            "[nltk_data]    | Downloading package bcp47 to /root/nltk_data...\n",
            "[nltk_data]    | Downloading package biocreative_ppi to\n",
            "[nltk_data]    |     /root/nltk_data...\n",
            "[nltk_data]    |   Unzipping corpora/biocreative_ppi.zip.\n",
            "[nltk_data]    | Downloading package bllip_wsj_no_aux to\n",
            "[nltk_data]    |     /root/nltk_data...\n",
            "[nltk_data]    |   Unzipping models/bllip_wsj_no_aux.zip.\n",
            "[nltk_data]    | Downloading package book_grammars to\n",
            "[nltk_data]    |     /root/nltk_data...\n",
            "[nltk_data]    |   Unzipping grammars/book_grammars.zip.\n",
            "[nltk_data]    | Downloading package brown to /root/nltk_data...\n",
            "[nltk_data]    |   Unzipping corpora/brown.zip.\n",
            "[nltk_data]    | Downloading package brown_tei to /root/nltk_data...\n",
            "[nltk_data]    |   Unzipping corpora/brown_tei.zip.\n",
            "[nltk_data]    | Downloading package cess_cat to /root/nltk_data...\n",
            "[nltk_data]    |   Unzipping corpora/cess_cat.zip.\n",
            "[nltk_data]    | Downloading package cess_esp to /root/nltk_data...\n",
            "[nltk_data]    |   Unzipping corpora/cess_esp.zip.\n",
            "[nltk_data]    | Downloading package chat80 to /root/nltk_data...\n",
            "[nltk_data]    |   Unzipping corpora/chat80.zip.\n",
            "[nltk_data]    | Downloading package city_database to\n",
            "[nltk_data]    |     /root/nltk_data...\n",
            "[nltk_data]    |   Unzipping corpora/city_database.zip.\n",
            "[nltk_data]    | Downloading package cmudict to /root/nltk_data...\n",
            "[nltk_data]    |   Unzipping corpora/cmudict.zip.\n",
            "[nltk_data]    | Downloading package comparative_sentences to\n",
            "[nltk_data]    |     /root/nltk_data...\n",
            "[nltk_data]    |   Unzipping corpora/comparative_sentences.zip.\n",
            "[nltk_data]    | Downloading package comtrans to /root/nltk_data...\n",
            "[nltk_data]    | Downloading package conll2000 to /root/nltk_data...\n",
            "[nltk_data]    |   Unzipping corpora/conll2000.zip.\n",
            "[nltk_data]    | Downloading package conll2002 to /root/nltk_data...\n",
            "[nltk_data]    |   Unzipping corpora/conll2002.zip.\n",
            "[nltk_data]    | Downloading package conll2007 to /root/nltk_data...\n",
            "[nltk_data]    | Downloading package crubadan to /root/nltk_data...\n",
            "[nltk_data]    |   Unzipping corpora/crubadan.zip.\n",
            "[nltk_data]    | Downloading package dependency_treebank to\n",
            "[nltk_data]    |     /root/nltk_data...\n",
            "[nltk_data]    |   Unzipping corpora/dependency_treebank.zip.\n",
            "[nltk_data]    | Downloading package dolch to /root/nltk_data...\n",
            "[nltk_data]    |   Unzipping corpora/dolch.zip.\n",
            "[nltk_data]    | Downloading package europarl_raw to\n",
            "[nltk_data]    |     /root/nltk_data...\n",
            "[nltk_data]    |   Unzipping corpora/europarl_raw.zip.\n",
            "[nltk_data]    | Downloading package extended_omw to\n",
            "[nltk_data]    |     /root/nltk_data...\n",
            "[nltk_data]    | Downloading package floresta to /root/nltk_data...\n",
            "[nltk_data]    |   Unzipping corpora/floresta.zip.\n",
            "[nltk_data]    | Downloading package framenet_v15 to\n",
            "[nltk_data]    |     /root/nltk_data...\n",
            "[nltk_data]    |   Unzipping corpora/framenet_v15.zip.\n",
            "[nltk_data]    | Downloading package framenet_v17 to\n",
            "[nltk_data]    |     /root/nltk_data...\n",
            "[nltk_data]    |   Unzipping corpora/framenet_v17.zip.\n",
            "[nltk_data]    | Downloading package gazetteers to /root/nltk_data...\n",
            "[nltk_data]    |   Unzipping corpora/gazetteers.zip.\n",
            "[nltk_data]    | Downloading package genesis to /root/nltk_data...\n",
            "[nltk_data]    |   Unzipping corpora/genesis.zip.\n",
            "[nltk_data]    | Downloading package gutenberg to /root/nltk_data...\n",
            "[nltk_data]    |   Unzipping corpora/gutenberg.zip.\n",
            "[nltk_data]    | Downloading package ieer to /root/nltk_data...\n",
            "[nltk_data]    |   Unzipping corpora/ieer.zip.\n",
            "[nltk_data]    | Downloading package inaugural to /root/nltk_data...\n",
            "[nltk_data]    |   Unzipping corpora/inaugural.zip.\n",
            "[nltk_data]    | Downloading package indian to /root/nltk_data...\n",
            "[nltk_data]    |   Unzipping corpora/indian.zip.\n",
            "[nltk_data]    | Downloading package jeita to /root/nltk_data...\n",
            "[nltk_data]    | Downloading package kimmo to /root/nltk_data...\n",
            "[nltk_data]    |   Unzipping corpora/kimmo.zip.\n",
            "[nltk_data]    | Downloading package knbc to /root/nltk_data...\n",
            "[nltk_data]    | Downloading package large_grammars to\n",
            "[nltk_data]    |     /root/nltk_data...\n",
            "[nltk_data]    |   Unzipping grammars/large_grammars.zip.\n",
            "[nltk_data]    | Downloading package lin_thesaurus to\n",
            "[nltk_data]    |     /root/nltk_data...\n",
            "[nltk_data]    |   Unzipping corpora/lin_thesaurus.zip.\n",
            "[nltk_data]    | Downloading package mac_morpho to /root/nltk_data...\n",
            "[nltk_data]    |   Unzipping corpora/mac_morpho.zip.\n",
            "[nltk_data]    | Downloading package machado to /root/nltk_data...\n",
            "[nltk_data]    | Downloading package masc_tagged to /root/nltk_data...\n",
            "[nltk_data]    | Downloading package maxent_ne_chunker to\n",
            "[nltk_data]    |     /root/nltk_data...\n",
            "[nltk_data]    |   Unzipping chunkers/maxent_ne_chunker.zip.\n",
            "[nltk_data]    | Downloading package maxent_ne_chunker_tab to\n",
            "[nltk_data]    |     /root/nltk_data...\n",
            "[nltk_data]    |   Unzipping chunkers/maxent_ne_chunker_tab.zip.\n",
            "[nltk_data]    | Downloading package maxent_treebank_pos_tagger to\n",
            "[nltk_data]    |     /root/nltk_data...\n",
            "[nltk_data]    |   Unzipping taggers/maxent_treebank_pos_tagger.zip.\n",
            "[nltk_data]    | Downloading package maxent_treebank_pos_tagger_tab to\n",
            "[nltk_data]    |     /root/nltk_data...\n",
            "[nltk_data]    |   Unzipping\n",
            "[nltk_data]    |       taggers/maxent_treebank_pos_tagger_tab.zip.\n",
            "[nltk_data]    | Downloading package moses_sample to\n",
            "[nltk_data]    |     /root/nltk_data...\n",
            "[nltk_data]    |   Unzipping models/moses_sample.zip.\n",
            "[nltk_data]    | Downloading package movie_reviews to\n",
            "[nltk_data]    |     /root/nltk_data...\n",
            "[nltk_data]    |   Unzipping corpora/movie_reviews.zip.\n",
            "[nltk_data]    | Downloading package mte_teip5 to /root/nltk_data...\n",
            "[nltk_data]    |   Unzipping corpora/mte_teip5.zip.\n",
            "[nltk_data]    | Downloading package mwa_ppdb to /root/nltk_data...\n",
            "[nltk_data]    |   Unzipping misc/mwa_ppdb.zip.\n",
            "[nltk_data]    | Downloading package names to /root/nltk_data...\n",
            "[nltk_data]    |   Unzipping corpora/names.zip.\n",
            "[nltk_data]    | Downloading package nombank.1.0 to /root/nltk_data...\n",
            "[nltk_data]    | Downloading package nonbreaking_prefixes to\n",
            "[nltk_data]    |     /root/nltk_data...\n",
            "[nltk_data]    |   Unzipping corpora/nonbreaking_prefixes.zip.\n",
            "[nltk_data]    | Downloading package nps_chat to /root/nltk_data...\n",
            "[nltk_data]    |   Unzipping corpora/nps_chat.zip.\n",
            "[nltk_data]    | Downloading package omw to /root/nltk_data...\n",
            "[nltk_data]    | Downloading package omw-1.4 to /root/nltk_data...\n",
            "[nltk_data]    | Downloading package opinion_lexicon to\n",
            "[nltk_data]    |     /root/nltk_data...\n",
            "[nltk_data]    |   Unzipping corpora/opinion_lexicon.zip.\n",
            "[nltk_data]    | Downloading package panlex_swadesh to\n",
            "[nltk_data]    |     /root/nltk_data...\n",
            "[nltk_data]    | Downloading package paradigms to /root/nltk_data...\n",
            "[nltk_data]    |   Unzipping corpora/paradigms.zip.\n",
            "[nltk_data]    | Downloading package pe08 to /root/nltk_data...\n",
            "[nltk_data]    |   Unzipping corpora/pe08.zip.\n",
            "[nltk_data]    | Downloading package perluniprops to\n",
            "[nltk_data]    |     /root/nltk_data...\n",
            "[nltk_data]    |   Unzipping misc/perluniprops.zip.\n",
            "[nltk_data]    | Downloading package pil to /root/nltk_data...\n",
            "[nltk_data]    |   Unzipping corpora/pil.zip.\n",
            "[nltk_data]    | Downloading package pl196x to /root/nltk_data...\n",
            "[nltk_data]    |   Unzipping corpora/pl196x.zip.\n",
            "[nltk_data]    | Downloading package porter_test to /root/nltk_data...\n",
            "[nltk_data]    |   Unzipping stemmers/porter_test.zip.\n",
            "[nltk_data]    | Downloading package ppattach to /root/nltk_data...\n",
            "[nltk_data]    |   Unzipping corpora/ppattach.zip.\n",
            "[nltk_data]    | Downloading package problem_reports to\n",
            "[nltk_data]    |     /root/nltk_data...\n",
            "[nltk_data]    |   Unzipping corpora/problem_reports.zip.\n",
            "[nltk_data]    | Downloading package product_reviews_1 to\n",
            "[nltk_data]    |     /root/nltk_data...\n",
            "[nltk_data]    |   Unzipping corpora/product_reviews_1.zip.\n",
            "[nltk_data]    | Downloading package product_reviews_2 to\n",
            "[nltk_data]    |     /root/nltk_data...\n",
            "[nltk_data]    |   Unzipping corpora/product_reviews_2.zip.\n",
            "[nltk_data]    | Downloading package propbank to /root/nltk_data...\n",
            "[nltk_data]    | Downloading package pros_cons to /root/nltk_data...\n",
            "[nltk_data]    |   Unzipping corpora/pros_cons.zip.\n",
            "[nltk_data]    | Downloading package ptb to /root/nltk_data...\n",
            "[nltk_data]    |   Unzipping corpora/ptb.zip.\n",
            "[nltk_data]    | Downloading package punkt to /root/nltk_data...\n",
            "[nltk_data]    |   Unzipping tokenizers/punkt.zip.\n",
            "[nltk_data]    | Downloading package punkt_tab to /root/nltk_data...\n",
            "[nltk_data]    |   Unzipping tokenizers/punkt_tab.zip.\n",
            "[nltk_data]    | Downloading package qc to /root/nltk_data...\n",
            "[nltk_data]    |   Unzipping corpora/qc.zip.\n",
            "[nltk_data]    | Downloading package reuters to /root/nltk_data...\n",
            "[nltk_data]    | Downloading package rslp to /root/nltk_data...\n",
            "[nltk_data]    |   Unzipping stemmers/rslp.zip.\n",
            "[nltk_data]    | Downloading package rte to /root/nltk_data...\n",
            "[nltk_data]    |   Unzipping corpora/rte.zip.\n",
            "[nltk_data]    | Downloading package sample_grammars to\n",
            "[nltk_data]    |     /root/nltk_data...\n",
            "[nltk_data]    |   Unzipping grammars/sample_grammars.zip.\n",
            "[nltk_data]    | Downloading package semcor to /root/nltk_data...\n",
            "[nltk_data]    | Downloading package senseval to /root/nltk_data...\n",
            "[nltk_data]    |   Unzipping corpora/senseval.zip.\n",
            "[nltk_data]    | Downloading package sentence_polarity to\n",
            "[nltk_data]    |     /root/nltk_data...\n",
            "[nltk_data]    |   Unzipping corpora/sentence_polarity.zip.\n",
            "[nltk_data]    | Downloading package sentiwordnet to\n",
            "[nltk_data]    |     /root/nltk_data...\n",
            "[nltk_data]    |   Unzipping corpora/sentiwordnet.zip.\n",
            "[nltk_data]    | Downloading package shakespeare to /root/nltk_data...\n",
            "[nltk_data]    |   Unzipping corpora/shakespeare.zip.\n",
            "[nltk_data]    | Downloading package sinica_treebank to\n",
            "[nltk_data]    |     /root/nltk_data...\n",
            "[nltk_data]    |   Unzipping corpora/sinica_treebank.zip.\n",
            "[nltk_data]    | Downloading package smultron to /root/nltk_data...\n",
            "[nltk_data]    |   Unzipping corpora/smultron.zip.\n",
            "[nltk_data]    | Downloading package snowball_data to\n",
            "[nltk_data]    |     /root/nltk_data...\n",
            "[nltk_data]    | Downloading package spanish_grammars to\n",
            "[nltk_data]    |     /root/nltk_data...\n",
            "[nltk_data]    |   Unzipping grammars/spanish_grammars.zip.\n",
            "[nltk_data]    | Downloading package state_union to /root/nltk_data...\n",
            "[nltk_data]    |   Unzipping corpora/state_union.zip.\n",
            "[nltk_data]    | Downloading package stopwords to /root/nltk_data...\n",
            "[nltk_data]    |   Unzipping corpora/stopwords.zip.\n",
            "[nltk_data]    | Downloading package subjectivity to\n",
            "[nltk_data]    |     /root/nltk_data...\n",
            "[nltk_data]    |   Unzipping corpora/subjectivity.zip.\n",
            "[nltk_data]    | Downloading package swadesh to /root/nltk_data...\n",
            "[nltk_data]    |   Unzipping corpora/swadesh.zip.\n",
            "[nltk_data]    | Downloading package switchboard to /root/nltk_data...\n",
            "[nltk_data]    |   Unzipping corpora/switchboard.zip.\n",
            "[nltk_data]    | Downloading package tagsets to /root/nltk_data...\n",
            "[nltk_data]    |   Unzipping help/tagsets.zip.\n",
            "[nltk_data]    | Downloading package tagsets_json to\n",
            "[nltk_data]    |     /root/nltk_data...\n",
            "[nltk_data]    |   Unzipping help/tagsets_json.zip.\n",
            "[nltk_data]    | Downloading package timit to /root/nltk_data...\n",
            "[nltk_data]    |   Unzipping corpora/timit.zip.\n",
            "[nltk_data]    | Downloading package toolbox to /root/nltk_data...\n",
            "[nltk_data]    |   Unzipping corpora/toolbox.zip.\n",
            "[nltk_data]    | Downloading package treebank to /root/nltk_data...\n",
            "[nltk_data]    |   Unzipping corpora/treebank.zip.\n",
            "[nltk_data]    | Downloading package twitter_samples to\n",
            "[nltk_data]    |     /root/nltk_data...\n",
            "[nltk_data]    |   Unzipping corpora/twitter_samples.zip.\n",
            "[nltk_data]    | Downloading package udhr to /root/nltk_data...\n",
            "[nltk_data]    |   Unzipping corpora/udhr.zip.\n",
            "[nltk_data]    | Downloading package udhr2 to /root/nltk_data...\n",
            "[nltk_data]    |   Unzipping corpora/udhr2.zip.\n",
            "[nltk_data]    | Downloading package unicode_samples to\n",
            "[nltk_data]    |     /root/nltk_data...\n",
            "[nltk_data]    |   Unzipping corpora/unicode_samples.zip.\n",
            "[nltk_data]    | Downloading package universal_tagset to\n",
            "[nltk_data]    |     /root/nltk_data...\n",
            "[nltk_data]    |   Unzipping taggers/universal_tagset.zip.\n",
            "[nltk_data]    | Downloading package universal_treebanks_v20 to\n",
            "[nltk_data]    |     /root/nltk_data...\n",
            "[nltk_data]    | Downloading package vader_lexicon to\n",
            "[nltk_data]    |     /root/nltk_data...\n",
            "[nltk_data]    | Downloading package verbnet to /root/nltk_data...\n",
            "[nltk_data]    |   Unzipping corpora/verbnet.zip.\n",
            "[nltk_data]    | Downloading package verbnet3 to /root/nltk_data...\n",
            "[nltk_data]    |   Unzipping corpora/verbnet3.zip.\n",
            "[nltk_data]    | Downloading package webtext to /root/nltk_data...\n",
            "[nltk_data]    |   Unzipping corpora/webtext.zip.\n",
            "[nltk_data]    | Downloading package wmt15_eval to /root/nltk_data...\n",
            "[nltk_data]    |   Unzipping models/wmt15_eval.zip.\n",
            "[nltk_data]    | Downloading package word2vec_sample to\n",
            "[nltk_data]    |     /root/nltk_data...\n",
            "[nltk_data]    |   Unzipping models/word2vec_sample.zip.\n",
            "[nltk_data]    | Downloading package wordnet to /root/nltk_data...\n",
            "[nltk_data]    | Downloading package wordnet2021 to /root/nltk_data...\n",
            "[nltk_data]    | Downloading package wordnet2022 to /root/nltk_data...\n",
            "[nltk_data]    |   Unzipping corpora/wordnet2022.zip.\n",
            "[nltk_data]    | Downloading package wordnet31 to /root/nltk_data...\n",
            "[nltk_data]    | Downloading package wordnet_ic to /root/nltk_data...\n",
            "[nltk_data]    |   Unzipping corpora/wordnet_ic.zip.\n",
            "[nltk_data]    | Downloading package words to /root/nltk_data...\n",
            "[nltk_data]    |   Unzipping corpora/words.zip.\n",
            "[nltk_data]    | Downloading package ycoe to /root/nltk_data...\n",
            "[nltk_data]    |   Unzipping corpora/ycoe.zip.\n",
            "[nltk_data]    | \n",
            "[nltk_data]  Done downloading collection all\n"
          ]
        },
        {
          "output_type": "execute_result",
          "data": {
            "text/plain": [
              "True"
            ]
          },
          "metadata": {},
          "execution_count": 3
        }
      ]
    },
    {
      "cell_type": "markdown",
      "source": [
        "## Brown Corpus\n",
        "#### Description: The first million-word electronic corpus of English, created in 1961 at Brown University. It contains 500 samples of English-language text categorized by genre.\n",
        "#### Usage: Useful for studying different text genres and styles.\n",
        "### Command to Load: nltk.corpus.brown"
      ],
      "metadata": {
        "id": "TdAAv4Eg1D1B"
      }
    },
    {
      "cell_type": "code",
      "source": [
        "from nltk.corpus import brown as br"
      ],
      "metadata": {
        "id": "3X2Weumo0Gim"
      },
      "execution_count": null,
      "outputs": []
    },
    {
      "cell_type": "code",
      "source": [
        "# Accessing categories\n",
        "print(br.categories())\n"
      ],
      "metadata": {
        "colab": {
          "base_uri": "https://localhost:8080/"
        },
        "id": "1K8_z4Cv1CwI",
        "outputId": "ad6f5612-43e0-4d78-9619-fb93ada5717b"
      },
      "execution_count": null,
      "outputs": [
        {
          "output_type": "stream",
          "name": "stdout",
          "text": [
            "['adventure', 'belles_lettres', 'editorial', 'fiction', 'government', 'hobbies', 'humor', 'learned', 'lore', 'mystery', 'news', 'religion', 'reviews', 'romance', 'science_fiction']\n"
          ]
        }
      ]
    },
    {
      "cell_type": "code",
      "source": [
        "# Access all words in the corpus\n",
        "words = br.words()\n",
        "print(words[:10])  # First 10 words\n",
        "print('_'*50)\n",
        "\n",
        "# Access all sentences in the corpus\n",
        "sentences = br.sents()\n",
        "print(sentences[0])  # First sentence\n",
        "print('_'*50)"
      ],
      "metadata": {
        "colab": {
          "base_uri": "https://localhost:8080/"
        },
        "id": "wtCHGSs03ZWe",
        "outputId": "2164f862-e900-4106-a991-e25bc7e22549"
      },
      "execution_count": null,
      "outputs": [
        {
          "output_type": "stream",
          "name": "stdout",
          "text": [
            "['The', 'Fulton', 'County', 'Grand', 'Jury', 'said', 'Friday', 'an', 'investigation', 'of']\n",
            "__________________________________________________\n",
            "['The', 'Fulton', 'County', 'Grand', 'Jury', 'said', 'Friday', 'an', 'investigation', 'of', \"Atlanta's\", 'recent', 'primary', 'election', 'produced', '``', 'no', 'evidence', \"''\", 'that', 'any', 'irregularities', 'took', 'place', '.']\n",
            "__________________________________________________\n"
          ]
        }
      ]
    },
    {
      "cell_type": "code",
      "source": [
        "# Access words in all category\n",
        "categories_words=['adventure', 'belles_lettres', 'editorial', 'fiction', 'government', 'hobbies', 'humor', 'learned', 'lore', 'mystery', 'news', 'religion', 'reviews', 'romance', 'science_fiction']\n",
        "for words in categories_words:\n",
        "\n",
        "\n",
        "  news_words = br.words(categories=words)\n",
        "  print(words)\n",
        "  print(news_words[:10])  # First 10 words in the 'news' category\n",
        "  print('_'*50)"
      ],
      "metadata": {
        "colab": {
          "base_uri": "https://localhost:8080/"
        },
        "id": "66sj8EjR2Q51",
        "outputId": "63ee1ca8-ea4a-4704-e0b9-369d7e026295"
      },
      "execution_count": null,
      "outputs": [
        {
          "output_type": "stream",
          "name": "stdout",
          "text": [
            "adventure\n",
            "['Dan', 'Morgan', 'told', 'himself', 'he', 'would', 'forget', 'Ann', 'Turner', '.']\n",
            "__________________________________________________\n",
            "belles_lettres\n",
            "['Northern', 'liberals', 'are', 'the', 'chief', 'supporters', 'of', 'civil', 'rights', 'and']\n",
            "__________________________________________________\n",
            "editorial\n",
            "['Assembly', 'session', 'brought', 'much', 'good', 'The', 'General', 'Assembly', ',', 'which']\n",
            "__________________________________________________\n",
            "fiction\n",
            "['Thirty-three', 'Scotty', 'did', 'not', 'go', 'back', 'to', 'school', '.', 'His']\n",
            "__________________________________________________\n",
            "government\n",
            "['The', 'Office', 'of', 'Business', 'Economics', '(', 'OBE', ')', 'of', 'the']\n",
            "__________________________________________________\n",
            "hobbies\n",
            "['Too', 'often', 'a', 'beginning', 'bodybuilder', 'has', 'to', 'do', 'his', 'training']\n",
            "__________________________________________________\n",
            "humor\n",
            "['It', 'was', 'among', 'these', 'that', 'Hinkle', 'identified', 'a', 'photograph', 'of']\n",
            "__________________________________________________\n",
            "learned\n",
            "['1', '.', 'Introduction', 'It', 'has', 'recently', 'become', 'practical', 'to', 'use']\n",
            "__________________________________________________\n",
            "lore\n",
            "['In', 'American', 'romance', ',', 'almost', 'nothing', 'rates', 'higher', 'than', 'what']\n",
            "__________________________________________________\n",
            "mystery\n",
            "['There', 'were', 'thirty-eight', 'patients', 'on', 'the', 'bus', 'the', 'morning', 'I']\n",
            "__________________________________________________\n",
            "news\n",
            "['The', 'Fulton', 'County', 'Grand', 'Jury', 'said', 'Friday', 'an', 'investigation', 'of']\n",
            "__________________________________________________\n",
            "religion\n",
            "['As', 'a', 'result', ',', 'although', 'we', 'still', 'make', 'use', 'of']\n",
            "__________________________________________________\n",
            "reviews\n",
            "['It', 'is', 'not', 'news', 'that', 'Nathan', 'Milstein', 'is', 'a', 'wizard']\n",
            "__________________________________________________\n",
            "romance\n",
            "['They', 'neither', 'liked', 'nor', 'disliked', 'the', 'Old', 'Man', '.', 'To']\n",
            "__________________________________________________\n",
            "science_fiction\n",
            "['Now', 'that', 'he', 'knew', 'himself', 'to', 'be', 'self', 'he', 'was']\n",
            "__________________________________________________\n"
          ]
        }
      ]
    },
    {
      "cell_type": "markdown",
      "source": [
        "## Reuters Corpus\n",
        "#### Description: A collection of over 10,000 news documents totaling 1.3 million words, labeled with categories.\n",
        "#### Usage: Commonly used for text classification tasks.\n",
        "### Command to Load: nltk.corpus.reuters"
      ],
      "metadata": {
        "id": "Hs_p368f5fSr"
      }
    },
    {
      "cell_type": "code",
      "source": [
        "from nltk.corpus import reuters as re"
      ],
      "metadata": {
        "id": "IdP2HR3A3uOW"
      },
      "execution_count": null,
      "outputs": []
    },
    {
      "cell_type": "code",
      "source": [
        "print(re.categories())"
      ],
      "metadata": {
        "colab": {
          "base_uri": "https://localhost:8080/"
        },
        "id": "OX8MmnJZ5kMN",
        "outputId": "da7fd075-ed1a-4116-f28e-f812ef79ea00"
      },
      "execution_count": null,
      "outputs": [
        {
          "output_type": "stream",
          "name": "stdout",
          "text": [
            "['acq', 'alum', 'barley', 'bop', 'carcass', 'castor-oil', 'cocoa', 'coconut', 'coconut-oil', 'coffee', 'copper', 'copra-cake', 'corn', 'cotton', 'cotton-oil', 'cpi', 'cpu', 'crude', 'dfl', 'dlr', 'dmk', 'earn', 'fuel', 'gas', 'gnp', 'gold', 'grain', 'groundnut', 'groundnut-oil', 'heat', 'hog', 'housing', 'income', 'instal-debt', 'interest', 'ipi', 'iron-steel', 'jet', 'jobs', 'l-cattle', 'lead', 'lei', 'lin-oil', 'livestock', 'lumber', 'meal-feed', 'money-fx', 'money-supply', 'naphtha', 'nat-gas', 'nickel', 'nkr', 'nzdlr', 'oat', 'oilseed', 'orange', 'palladium', 'palm-oil', 'palmkernel', 'pet-chem', 'platinum', 'potato', 'propane', 'rand', 'rape-oil', 'rapeseed', 'reserves', 'retail', 'rice', 'rubber', 'rye', 'ship', 'silver', 'sorghum', 'soy-meal', 'soy-oil', 'soybean', 'strategic-metal', 'sugar', 'sun-meal', 'sun-oil', 'sunseed', 'tea', 'tin', 'trade', 'veg-oil', 'wheat', 'wpi', 'yen', 'zinc']\n"
          ]
        }
      ]
    },
    {
      "cell_type": "code",
      "source": [
        "# Access all file IDs (documents) in the corpus\n",
        "file_ids = re.fileids()\n",
        "print(file_ids[:10])  # First 10 document IDs\n",
        "\n",
        "# Access categories of a specific document\n",
        "doc_categories = re.categories(file_ids[0])\n",
        "print(doc_categories)  # Categories for the first document\n"
      ],
      "metadata": {
        "colab": {
          "base_uri": "https://localhost:8080/"
        },
        "id": "vuO6RkU78Aem",
        "outputId": "75809c03-2f0a-472f-e155-d3444ba38614"
      },
      "execution_count": null,
      "outputs": [
        {
          "output_type": "stream",
          "name": "stdout",
          "text": [
            "['test/14826', 'test/14828', 'test/14829', 'test/14832', 'test/14833', 'test/14839', 'test/14840', 'test/14841', 'test/14842', 'test/14843']\n",
            "['trade']\n"
          ]
        }
      ]
    },
    {
      "cell_type": "code",
      "source": [
        "# Access all words in the corpus\n",
        "words = re.words()\n",
        "print(words[:10])  # First 10 words\n",
        "print('_'*50)\n",
        "\n",
        "# Access all sentences in the corpus\n",
        "sentences = re.sents()\n",
        "print(sentences[0])  # First sentence\n",
        "print('_'*50)"
      ],
      "metadata": {
        "colab": {
          "base_uri": "https://localhost:8080/"
        },
        "id": "3RlYSgVD6BZv",
        "outputId": "d1379680-9000-4c59-ffee-4951ab7f9fe1"
      },
      "execution_count": null,
      "outputs": [
        {
          "output_type": "stream",
          "name": "stdout",
          "text": [
            "['ASIAN', 'EXPORTERS', 'FEAR', 'DAMAGE', 'FROM', 'U', '.', 'S', '.-', 'JAPAN']\n",
            "__________________________________________________\n",
            "['ASIAN', 'EXPORTERS', 'FEAR', 'DAMAGE', 'FROM', 'U', '.', 'S', '.-', 'JAPAN', 'RIFT', 'Mounting', 'trade', 'friction', 'between', 'the', 'U', '.', 'S', '.', 'And', 'Japan', 'has', 'raised', 'fears', 'among', 'many', 'of', 'Asia', \"'\", 's', 'exporting', 'nations', 'that', 'the', 'row', 'could', 'inflict', 'far', '-', 'reaching', 'economic', 'damage', ',', 'businessmen', 'and', 'officials', 'said', '.']\n",
            "__________________________________________________\n"
          ]
        }
      ]
    },
    {
      "cell_type": "code",
      "source": [
        "# Access words in all category\n",
        "categories_words=['acq', 'alum', 'barley', 'bop', 'carcass', 'castor-oil', 'cocoa', 'coconut', 'coconut-oil', 'coffee', 'copper', 'copra-cake', 'corn', 'cotton', 'cotton-oil', 'cpi', 'cpu', 'crude', 'dfl', 'dlr', 'dmk', 'earn', 'fuel', 'gas', 'gnp', 'gold', 'grain', 'groundnut', 'groundnut-oil', 'heat', 'hog', 'housing', 'income', 'instal-debt', 'interest', 'ipi', 'iron-steel', 'jet', 'jobs', 'l-cattle', 'lead', 'lei', 'lin-oil', 'livestock', 'lumber', 'meal-feed', 'money-fx', 'money-supply', 'naphtha', 'nat-gas', 'nickel', 'nkr', 'nzdlr', 'oat', 'oilseed', 'orange', 'palladium', 'palm-oil', 'palmkernel', 'pet-chem', 'platinum', 'potato', 'propane', 'rand', 'rape-oil', 'rapeseed', 'reserves', 'retail', 'rice', 'rubber', 'rye', 'ship', 'silver', 'sorghum', 'soy-meal', 'soy-oil', 'soybean', 'strategic-metal', 'sugar', 'sun-meal', 'sun-oil', 'sunseed', 'tea', 'tin', 'trade', 'veg-oil', 'wheat', 'wpi', 'yen', 'zinc']\n",
        "for words in categories_words:\n",
        "\n",
        "\n",
        "  news_words = re.words(categories=words)\n",
        "  print(words)\n",
        "  print(news_words[:10])  # First 10 words in the 'news' category\n",
        "  print('_'*50)"
      ],
      "metadata": {
        "colab": {
          "base_uri": "https://localhost:8080/"
        },
        "id": "1Y0_Rho56TER",
        "outputId": "36a5ddfe-ec85-4422-d821-7064ba41ac87"
      },
      "execution_count": null,
      "outputs": [
        {
          "output_type": "stream",
          "name": "stdout",
          "text": [
            "acq\n",
            "['SUMITOMO', 'BANK', 'AIMS', 'AT', 'QUICK', 'RECOVERY', 'FROM', 'MERGER', 'Sumitomo', 'Bank']\n",
            "__________________________________________________\n",
            "alum\n",
            "['SHOWA', 'DENKO', 'EXPORTS', 'ALUMINIUM', 'CASTING', 'EQUIPMENT', '&', 'lt', ';', 'Showa']\n",
            "__________________________________________________\n",
            "barley\n",
            "['FRENCH', 'FREE', 'MARKET', 'CEREAL', 'EXPORT', 'BIDS', 'DETAILED', 'French', 'operators', 'have']\n",
            "__________________________________________________\n",
            "bop\n",
            "['SOUTH', 'KOREA', 'MOVES', 'TO', 'SLOW', 'GROWTH', 'OF', 'TRADE', 'SURPLUS', 'South']\n",
            "__________________________________________________\n",
            "carcass\n",
            "['JAPAN', 'MINISTRY', 'SAYS', 'OPEN', 'FARM', 'TRADE', 'WOULD', 'HIT', 'U', '.']\n",
            "__________________________________________________\n",
            "castor-oil\n",
            "['INDIA', 'RELAXES', 'RULES', 'FOR', 'EXPORT', 'PROMOTION', 'The', 'Reserve', 'Bank', 'of']\n",
            "__________________________________________________\n",
            "cocoa\n",
            "['COCOA', 'EXPORTERS', 'EXPECTED', 'TO', 'LIMIT', 'SALES', 'Major', 'cocoa', 'exporters', 'are']\n",
            "__________________________________________________\n",
            "coconut\n",
            "['PHILIPPINE', 'COCONUT', 'CHIEF', 'TO', 'LOBBY', 'AGAINST', 'EC', 'TAX', 'Philippine', 'Coconut']\n",
            "__________________________________________________\n",
            "coconut-oil\n",
            "['PHILIPPINE', 'COCONUT', 'CHIEF', 'TO', 'LOBBY', 'AGAINST', 'EC', 'TAX', 'Philippine', 'Coconut']\n",
            "__________________________________________________\n",
            "coffee\n",
            "['INDONESIAN', 'COMMODITY', 'EXCHANGE', 'MAY', 'EXPAND', 'The', 'Indonesian', 'Commodity', 'Exchange', 'is']\n",
            "__________________________________________________\n",
            "copper\n",
            "['BOND', 'CORP', 'STILL', 'CONSIDERING', 'ATLAS', 'MINING', 'BAIL', '-', 'OUT', 'Bond']\n",
            "__________________________________________________\n",
            "copra-cake\n",
            "['PHILIPPINE', 'COCONUT', 'CHIEF', 'TO', 'LOBBY', 'AGAINST', 'EC', 'TAX', 'Philippine', 'Coconut']\n",
            "__________________________________________________\n",
            "corn\n",
            "['THAI', 'TRADE', 'DEFICIT', 'WIDENS', 'IN', 'FIRST', 'QUARTER', 'Thailand', \"'\", 's']\n",
            "__________________________________________________\n",
            "cotton\n",
            "['PAKISTAN', 'COTTON', 'CROP', 'SEEN', 'RECORD', '7', '.', '6', 'MLN', 'BALES']\n",
            "__________________________________________________\n",
            "cotton-oil\n",
            "['NET', 'CHANGE', 'IN', 'EXPORT', 'COMMITMENTS', '--', 'USDA', 'The', 'U', '.']\n",
            "__________________________________________________\n",
            "cpi\n",
            "['ECONOMIC', 'SPOTLIGHT', '-', 'KUWAITI', 'ECONOMY', 'Kuwait', \"'\", 's', 'oil', '-']\n",
            "__________________________________________________\n",
            "cpu\n",
            "['U', '.', 'S', '.', 'INDUSTRIAL', 'CAPACITY', 'USE', 'RATE', '81', '.']\n",
            "__________________________________________________\n",
            "crude\n",
            "['JAPAN', 'TO', 'REVISE', 'LONG', '-', 'TERM', 'ENERGY', 'DEMAND', 'DOWNWARDS', 'The']\n",
            "__________________________________________________\n",
            "dfl\n",
            "['DUTCH', 'OFFICIAL', 'RATE', 'CUT', 'SEEN', 'STILL', 'LIKELY', 'A', 'cut', 'of']\n",
            "__________________________________________________\n",
            "dlr\n",
            "['BANK', 'OF', 'JAPAN', 'INTERVENES', 'SOON', 'AFTER', 'TOKYO', 'OPENING', 'The', 'Bank']\n",
            "__________________________________________________\n",
            "dmk\n",
            "['DUTCH', 'OFFICIAL', 'RATE', 'CUT', 'SEEN', 'STILL', 'LIKELY', 'A', 'cut', 'of']\n",
            "__________________________________________________\n",
            "earn\n",
            "['AMATIL', 'PROPOSES', 'TWO', '-', 'FOR', '-', 'FIVE', 'BONUS', 'SHARE', 'ISSUE']\n",
            "__________________________________________________\n",
            "fuel\n",
            "['ROYAL', 'DUTCH', '(', 'RD', ')', 'UNIT', 'TO', 'RAISE', 'HEAVY', 'FUEL']\n",
            "__________________________________________________\n",
            "gas\n",
            "['FINNS', 'AND', 'CANADIANS', 'TO', 'STUDY', 'MTBE', 'PRODUCTION', 'PLANT', 'Finland', \"'\"]\n",
            "__________________________________________________\n",
            "gnp\n",
            "['ECONOMIC', 'SPOTLIGHT', '-', 'KUWAITI', 'ECONOMY', 'Kuwait', \"'\", 's', 'oil', '-']\n",
            "__________________________________________________\n",
            "gold\n",
            "['WESTERN', 'MINING', 'TO', 'OPEN', 'NEW', 'GOLD', 'MINE', 'IN', 'AUSTRALIA', 'Western']\n",
            "__________________________________________________\n",
            "grain\n",
            "['CHINA', 'DAILY', 'SAYS', 'VERMIN', 'EAT', '7', '-', '12', 'PCT', 'GRAIN']\n",
            "__________________________________________________\n",
            "groundnut\n",
            "['JAPAN', \"'\", 'S', 'LDP', 'URGES', 'MORE', 'IMPORTS', 'OF', '12', 'FARM']\n",
            "__________________________________________________\n",
            "groundnut-oil\n",
            "['RPT', '-', 'ARGENTINE', 'GRAIN', '/', 'OILSEED', 'EXPORT', 'PRICES', 'ADJUSTED', 'The']\n",
            "__________________________________________________\n",
            "heat\n",
            "['SUN', '&', 'lt', ';', 'SUN', '>', 'CUTS', 'HEATING', 'OIL', 'BARGE']\n",
            "__________________________________________________\n",
            "hog\n",
            "['HOG', 'AND', 'CATTLE', 'SLAUGHTER', 'GUESSTIMATES', 'Chicago', 'Mercantile', 'Exchange', 'floor', 'traders']\n",
            "__________________________________________________\n",
            "housing\n",
            "['BANK', 'OF', 'AMERICA', 'SEES', 'SLOW', 'U', '.', 'S', '.', 'CONSUMER']\n",
            "__________________________________________________\n",
            "income\n",
            "['YUGOSLAV', 'ECONOMY', 'WORSENED', 'IN', '1986', ',', 'BANK', 'DATA', 'SHOWS', 'National']\n",
            "__________________________________________________\n",
            "instal-debt\n",
            "['FED', 'TO', 'RELEASE', 'U', '.', 'S', '.', 'APRIL', 'CONSUMER', 'CREDIT']\n",
            "__________________________________________________\n",
            "interest\n",
            "['BUNDESBANK', 'ALLOCATES', '6', '.', '1', 'BILLION', 'MARKS', 'IN', 'TENDER', 'The']\n",
            "__________________________________________________\n",
            "ipi\n",
            "['CHINA', 'INDUSTRIAL', 'OUTPUT', 'RISES', 'IN', 'FIRST', 'QUARTER', 'China', \"'\", 's']\n",
            "__________________________________________________\n",
            "iron-steel\n",
            "['CANADA', 'PLANS', 'TO', 'MONITOR', 'STEEL', 'IMPORTS', ',', 'EXPORTS', ',', 'TRADE']\n",
            "__________________________________________________\n",
            "jet\n",
            "['BANGLADESH', 'TENDERS', 'FOR', 'TWO', 'MLN', 'BARRELS', 'PETROLEUM', 'Bangladesh', 'Petroleum', 'Corp']\n",
            "__________________________________________________\n",
            "jobs\n",
            "['GERMAN', 'INDUSTRIAL', 'EMPLOYMENT', 'SEEN', 'STAGNATING', 'The', 'number', 'of', 'workers', 'employed']\n",
            "__________________________________________________\n",
            "l-cattle\n",
            "['MEXICAN', 'CATTLE', 'IMPORTS', 'TO', 'BE', 'BRANDED', '-', 'USDA', 'All', 'steers']\n",
            "__________________________________________________\n",
            "lead\n",
            "['FINNS', 'AND', 'CANADIANS', 'TO', 'STUDY', 'MTBE', 'PRODUCTION', 'PLANT', 'Finland', \"'\"]\n",
            "__________________________________________________\n",
            "lei\n",
            "['CANADA', 'LEADING', 'INDICATOR', 'UP', '0', '.', '4', 'PCT', 'IN', 'JANUARY']\n",
            "__________________________________________________\n",
            "lin-oil\n",
            "['RPT', '-', 'ARGENTINE', 'GRAIN', '/', 'OILSEED', 'EXPORT', 'PRICES', 'ADJUSTED', 'The']\n",
            "__________________________________________________\n",
            "livestock\n",
            "['JAPAN', 'MINISTRY', 'SAYS', 'OPEN', 'FARM', 'TRADE', 'WOULD', 'HIT', 'U', '.']\n",
            "__________________________________________________\n",
            "lumber\n",
            "['INDONESIAN', 'COMMODITY', 'EXCHANGE', 'MAY', 'EXPAND', 'The', 'Indonesian', 'Commodity', 'Exchange', 'is']\n",
            "__________________________________________________\n",
            "meal-feed\n",
            "['RPT', '-', 'ARGENTINE', 'GRAIN', '/', 'OILSEED', 'EXPORT', 'PRICES', 'ADJUSTED', 'The']\n",
            "__________________________________________________\n",
            "money-fx\n",
            "['BUNDESBANK', 'ALLOCATES', '6', '.', '1', 'BILLION', 'MARKS', 'IN', 'TENDER', 'The']\n",
            "__________________________________________________\n",
            "money-supply\n",
            "['FED', \"'\", 'S', 'HELLER', 'SEES', 'RETURN', 'TO', 'SLOWER', 'MONEY', 'SUPPLY']\n",
            "__________________________________________________\n",
            "naphtha\n",
            "['SOUTH', 'KOREA', 'RAISES', 'NAPHTHA', 'PRICE', 'South', 'Korea', 'raised', 'its', 'pre']\n",
            "__________________________________________________\n",
            "nat-gas\n",
            "['JAPAN', 'TO', 'REVISE', 'LONG', '-', 'TERM', 'ENERGY', 'DEMAND', 'DOWNWARDS', 'The']\n",
            "__________________________________________________\n",
            "nickel\n",
            "['NICKEL', 'PRICES', 'UNLIKELY', 'TO', 'RISE', 'MUCH', '-', 'SHEARSON', 'Nickel', 'prices']\n",
            "__________________________________________________\n",
            "nkr\n",
            "['NORWAY', 'CENTRAL', 'BANK', 'SELLS', 'CROWNS', 'TO', 'EASE', 'UPWARD', 'PRESSURE', 'ON']\n",
            "__________________________________________________\n",
            "nzdlr\n",
            "['NEW', 'ZEALAND', 'BUDGET', 'FORECAST', 'SEEN', 'AS', 'POSITIVE', 'Analysts', 'said', 'they']\n",
            "__________________________________________________\n",
            "oat\n",
            "['NET', 'CHANGE', 'IN', 'EXPORT', 'COMMITMENTS', '--', 'USDA', 'The', 'U', '.']\n",
            "__________________________________________________\n",
            "oilseed\n",
            "['JAPAN', 'MINISTRY', 'SAYS', 'OPEN', 'FARM', 'TRADE', 'WOULD', 'HIT', 'U', '.']\n",
            "__________________________________________________\n",
            "orange\n",
            "['WEATHER', 'HURTS', 'ITALIAN', 'ORANGES', '-', 'USDA', 'REPORT', 'Unfavorable', 'weather', 'conditions']\n",
            "__________________________________________________\n",
            "palladium\n",
            "['JOHNSON', 'MATTHEY', \"'\", 'S', 'PLATINUM', 'GROUP', 'PRICES', 'Johnson', 'Matthey', 'today']\n",
            "__________________________________________________\n",
            "palm-oil\n",
            "['INDONESIA', 'SEES', 'CPO', 'PRICE', 'RISING', 'SHARPLY', 'Indonesia', 'expects', 'crude', 'palm']\n",
            "__________________________________________________\n",
            "palmkernel\n",
            "['US', 'TROPICAL', 'OIL', 'LABELING', 'PLAN', 'SUFFERS', 'DEFEAT', 'A', 'proposal', 'to']\n",
            "__________________________________________________\n",
            "pet-chem\n",
            "['ENERGY', '/', 'U', '.', 'S', '.', 'PETROCHEMICAL', 'INDUSTRY', 'Cheap', 'oil']\n",
            "__________________________________________________\n",
            "platinum\n",
            "['JOHNSON', 'MATTHEY', \"'\", 'S', 'PLATINUM', 'GROUP', 'PRICES', 'Johnson', 'Matthey', 'today']\n",
            "__________________________________________________\n",
            "potato\n",
            "['U', '.', 'K', '.', 'POTATO', 'FUTURES', 'TRADING', 'NOT', 'TO', 'BE']\n",
            "__________________________________________________\n",
            "propane\n",
            "['BP', 'CUTS', 'NORTH', 'SEA', 'PROPANE', 'PRICE', ',', 'BUTANE', 'UNCHANGED', 'British']\n",
            "__________________________________________________\n",
            "rand\n",
            "['VOLKSKAS', 'BANK', 'SEES', 'RAND', 'HINGING', 'ON', 'INFLATION', 'RATE', 'South', 'Africa']\n",
            "__________________________________________________\n",
            "rape-oil\n",
            "['RPT', '-', 'ARGENTINE', 'GRAIN', '/', 'OILSEED', 'EXPORT', 'PRICES', 'ADJUSTED', 'The']\n",
            "__________________________________________________\n",
            "rapeseed\n",
            "['JAPAN', 'BUYS', '4', ',', '000', 'TONNES', 'CANADIAN', 'RAPESEED', 'Japan', 'bought']\n",
            "__________________________________________________\n",
            "reserves\n",
            "['9', '-', 'APR', '-', '1987', '07', ':', '38', ':', '18']\n",
            "__________________________________________________\n",
            "retail\n",
            "['U', '.', 'S', '.', 'MARCH', 'RETAIL', 'SALES', 'CUT', 'BY', 'LATE']\n",
            "__________________________________________________\n",
            "rice\n",
            "['THAI', 'TRADE', 'DEFICIT', 'WIDENS', 'IN', 'FIRST', 'QUARTER', 'Thailand', \"'\", 's']\n",
            "__________________________________________________\n",
            "rubber\n",
            "['THAI', 'TRADE', 'DEFICIT', 'WIDENS', 'IN', 'FIRST', 'QUARTER', 'Thailand', \"'\", 's']\n",
            "__________________________________________________\n",
            "rye\n",
            "['DANISH', 'CROPS', 'TWO', 'WEEKS', 'BEHIND', ',', 'OFFICIAL', 'REPORT', 'Danish', 'crops']\n",
            "__________________________________________________\n",
            "ship\n",
            "['AUSTRALIAN', 'FOREIGN', 'SHIP', 'BAN', 'ENDS', 'BUT', 'NSW', 'PORTS', 'HIT', 'Tug']\n",
            "__________________________________________________\n",
            "silver\n",
            "['U', '.', 'S', '.', 'DOLLAR', 'LOSSES', 'PROPEL', 'BROAD', 'COMMODITY', 'GAINS']\n",
            "__________________________________________________\n",
            "sorghum\n",
            "['FURTHER', 'ARGENTINE', 'COARSE', 'GRAIN', 'LOSSES', 'FEARED', 'Argentine', 'grain', 'producers', 'adjusted']\n",
            "__________________________________________________\n",
            "soy-meal\n",
            "['U', '.', 'S', '.', 'SUPPLY', '/', 'DEMAND', 'HIGHLIGHTS', 'Following', 'are']\n",
            "__________________________________________________\n",
            "soy-oil\n",
            "['MALAYSIA', 'MAY', 'NOT', 'MEET', '1987', 'OIL', 'PALM', 'TARGET', 'Malaysia', 'is']\n",
            "__________________________________________________\n",
            "soybean\n",
            "['JAPAN', 'MINISTRY', 'SAYS', 'OPEN', 'FARM', 'TRADE', 'WOULD', 'HIT', 'U', '.']\n",
            "__________________________________________________\n",
            "strategic-metal\n",
            "['JOHNSON', 'MATTHEY', \"'\", 'S', 'PLATINUM', 'GROUP', 'PRICES', 'Johnson', 'Matthey', 'today']\n",
            "__________________________________________________\n",
            "sugar\n",
            "['THAI', 'TRADE', 'DEFICIT', 'WIDENS', 'IN', 'FIRST', 'QUARTER', 'Thailand', \"'\", 's']\n",
            "__________________________________________________\n",
            "sun-meal\n",
            "['RPT', '-', 'ARGENTINE', 'GRAIN', '/', 'OILSEED', 'EXPORT', 'PRICES', 'ADJUSTED', 'The']\n",
            "__________________________________________________\n",
            "sun-oil\n",
            "['RPT', '-', 'ARGENTINE', 'GRAIN', '/', 'OILSEED', 'EXPORT', 'PRICES', 'ADJUSTED', 'The']\n",
            "__________________________________________________\n",
            "sunseed\n",
            "['FURTHER', 'ARGENTINE', 'COARSE', 'GRAIN', 'LOSSES', 'FEARED', 'Argentine', 'grain', 'producers', 'adjusted']\n",
            "__________________________________________________\n",
            "tea\n",
            "['PAKISTAN', 'CONFIRMS', 'KENYA', 'TEA', 'IMPORT', 'INVESTIGATION', 'Pakistan', \"'\", 's', 'Corporate']\n",
            "__________________________________________________\n",
            "tin\n",
            "['THAI', 'TRADE', 'DEFICIT', 'WIDENS', 'IN', 'FIRST', 'QUARTER', 'Thailand', \"'\", 's']\n",
            "__________________________________________________\n",
            "trade\n",
            "['ASIAN', 'EXPORTERS', 'FEAR', 'DAMAGE', 'FROM', 'U', '.', 'S', '.-', 'JAPAN']\n",
            "__________________________________________________\n",
            "veg-oil\n",
            "['INDONESIA', 'SEES', 'CPO', 'PRICE', 'RISING', 'SHARPLY', 'Indonesia', 'expects', 'crude', 'palm']\n",
            "__________________________________________________\n",
            "wheat\n",
            "['SRI', 'LANKA', 'GETS', 'USDA', 'APPROVAL', 'FOR', 'WHEAT', 'PRICE', 'Food', 'Department']\n",
            "__________________________________________________\n",
            "wpi\n",
            "['YUGOSLAV', 'ECONOMY', 'WORSENED', 'IN', '1986', ',', 'BANK', 'DATA', 'SHOWS', 'National']\n",
            "__________________________________________________\n",
            "yen\n",
            "['BANK', 'OF', 'JAPAN', 'INTERVENES', 'SOON', 'AFTER', 'TOKYO', 'OPENING', 'The', 'Bank']\n",
            "__________________________________________________\n",
            "zinc\n",
            "['THAI', 'ZINC', 'EXPORTS', 'FALL', 'IN', 'MARCH', 'Thai', 'zinc', 'ingot', 'exports']\n",
            "__________________________________________________\n"
          ]
        }
      ]
    },
    {
      "cell_type": "markdown",
      "source": [
        "## Gutenberg Corpus\n",
        "#### Description: A collection of 25,000 free eBooks from Project Gutenberg, including works by Shakespeare, Austen, and others.\n",
        "#### Usage: Useful for literary analysis and text mining.\n",
        "### Command to Load: nltk.corpus.gutenberg"
      ],
      "metadata": {
        "id": "Hou3Iz1D6QtP"
      }
    },
    {
      "cell_type": "code",
      "source": [
        "from nltk.corpus import gutenberg as gut"
      ],
      "metadata": {
        "id": "0u88CQo56RjM"
      },
      "execution_count": null,
      "outputs": []
    },
    {
      "cell_type": "code",
      "source": [
        "# List all available texts in the Gutenberg corpus\n",
        "texts = gut.fileids()\n",
        "print(texts)"
      ],
      "metadata": {
        "colab": {
          "base_uri": "https://localhost:8080/"
        },
        "id": "EHvB4oU97jQD",
        "outputId": "266a8708-ac71-4af9-80a2-d5b18c9e6a18"
      },
      "execution_count": null,
      "outputs": [
        {
          "output_type": "stream",
          "name": "stdout",
          "text": [
            "['austen-emma.txt', 'austen-persuasion.txt', 'austen-sense.txt', 'bible-kjv.txt', 'blake-poems.txt', 'bryant-stories.txt', 'burgess-busterbrown.txt', 'carroll-alice.txt', 'chesterton-ball.txt', 'chesterton-brown.txt', 'chesterton-thursday.txt', 'edgeworth-parents.txt', 'melville-moby_dick.txt', 'milton-paradise.txt', 'shakespeare-caesar.txt', 'shakespeare-hamlet.txt', 'shakespeare-macbeth.txt', 'whitman-leaves.txt']\n"
          ]
        }
      ]
    },
    {
      "cell_type": "code",
      "source": [
        "# Access raw text of a specific work (e.g., 'austen-emma.txt')\n",
        "raw_text = gut.raw('austen-emma.txt')\n",
        "print(raw_text[:500])  # First 500 characters of 'Emma' by Jane Austen\n",
        "print('_'*50)\n",
        "\n",
        "# Access words in a specific work\n",
        "words = gut.words('shakespeare-hamlet.txt')\n",
        "print(words[:20])  # First 20 words in 'Emma'\n",
        "print('_'*50)\n",
        "\n",
        "# Access sentences in a specific work\n",
        "sentences = gut.sents('chesterton-thursday.txt')\n",
        "print(sentences[0])  # First sentence in 'Emma'"
      ],
      "metadata": {
        "colab": {
          "base_uri": "https://localhost:8080/"
        },
        "id": "MRl2M2sS89BT",
        "outputId": "3581a18f-91e0-4d28-ec46-a2a7e701936c"
      },
      "execution_count": null,
      "outputs": [
        {
          "output_type": "stream",
          "name": "stdout",
          "text": [
            "[Emma by Jane Austen 1816]\n",
            "\n",
            "VOLUME I\n",
            "\n",
            "CHAPTER I\n",
            "\n",
            "\n",
            "Emma Woodhouse, handsome, clever, and rich, with a comfortable home\n",
            "and happy disposition, seemed to unite some of the best blessings\n",
            "of existence; and had lived nearly twenty-one years in the world\n",
            "with very little to distress or vex her.\n",
            "\n",
            "She was the youngest of the two daughters of a most affectionate,\n",
            "indulgent father; and had, in consequence of her sister's marriage,\n",
            "been mistress of his house from a very early period.  Her mother\n",
            "had died t\n",
            "__________________________________________________\n",
            "['[', 'The', 'Tragedie', 'of', 'Hamlet', 'by', 'William', 'Shakespeare', '1599', ']', 'Actus', 'Primus', '.', 'Scoena', 'Prima', '.', 'Enter', 'Barnardo', 'and', 'Francisco']\n",
            "__________________________________________________\n",
            "['[', 'The', 'Man', 'Who', 'Was', 'Thursday', 'by', 'G', '.', 'K', '.', 'Chesterton', '1908', ']']\n"
          ]
        }
      ]
    },
    {
      "cell_type": "code",
      "source": [
        "# Loop through each text file in the Gutenberg corpus\n",
        "for file_id in gut.fileids():\n",
        "    # Calculate average word length\n",
        "    word_lengths = [len(word) for word in gut.words(file_id)]\n",
        "    avg_word_length = sum(word_lengths) / len(word_lengths)\n",
        "\n",
        "    # Calculate average sentence length\n",
        "    sentence_lengths = [len(sentence) for sentence in gut.sents(file_id)]\n",
        "    avg_sentence_length = sum(sentence_lengths) / len(sentence_lengths)\n",
        "\n",
        "    # Print results for the current text file\n",
        "    print(f\"Text: {file_id}\")\n",
        "    print(f\"  Average Word Length: {avg_word_length:.2f} characters\")\n",
        "    print(f\"  Average Sentence Length: {avg_sentence_length:.2f} words\")\n",
        "    print()"
      ],
      "metadata": {
        "colab": {
          "base_uri": "https://localhost:8080/"
        },
        "id": "ipF0syQc9bQV",
        "outputId": "5ada0eb7-c418-4940-9a31-2500420cf424"
      },
      "execution_count": null,
      "outputs": [
        {
          "output_type": "stream",
          "name": "stdout",
          "text": [
            "Text: austen-emma.txt\n",
            "  Average Word Length: 3.76 characters\n",
            "  Average Sentence Length: 24.83 words\n",
            "\n",
            "Text: austen-persuasion.txt\n",
            "  Average Word Length: 3.87 characters\n",
            "  Average Sentence Length: 26.20 words\n",
            "\n",
            "Text: austen-sense.txt\n",
            "  Average Word Length: 3.88 characters\n",
            "  Average Sentence Length: 28.33 words\n",
            "\n",
            "Text: bible-kjv.txt\n",
            "  Average Word Length: 3.45 characters\n",
            "  Average Sentence Length: 33.57 words\n",
            "\n",
            "Text: blake-poems.txt\n",
            "  Average Word Length: 3.50 characters\n",
            "  Average Sentence Length: 19.08 words\n",
            "\n",
            "Text: bryant-stories.txt\n",
            "  Average Word Length: 3.50 characters\n",
            "  Average Sentence Length: 19.41 words\n",
            "\n",
            "Text: burgess-busterbrown.txt\n",
            "  Average Word Length: 3.52 characters\n",
            "  Average Sentence Length: 17.99 words\n",
            "\n",
            "Text: carroll-alice.txt\n",
            "  Average Word Length: 3.40 characters\n",
            "  Average Sentence Length: 20.03 words\n",
            "\n",
            "Text: chesterton-ball.txt\n",
            "  Average Word Length: 3.82 characters\n",
            "  Average Sentence Length: 20.30 words\n",
            "\n",
            "Text: chesterton-brown.txt\n",
            "  Average Word Length: 3.79 characters\n",
            "  Average Sentence Length: 22.61 words\n",
            "\n",
            "Text: chesterton-thursday.txt\n",
            "  Average Word Length: 3.77 characters\n",
            "  Average Sentence Length: 18.50 words\n",
            "\n",
            "Text: edgeworth-parents.txt\n",
            "  Average Word Length: 3.51 characters\n",
            "  Average Sentence Length: 20.60 words\n",
            "\n",
            "Text: melville-moby_dick.txt\n",
            "  Average Word Length: 3.83 characters\n",
            "  Average Sentence Length: 25.93 words\n",
            "\n",
            "Text: milton-paradise.txt\n",
            "  Average Word Length: 3.89 characters\n",
            "  Average Sentence Length: 52.31 words\n",
            "\n",
            "Text: shakespeare-caesar.txt\n",
            "  Average Word Length: 3.44 characters\n",
            "  Average Sentence Length: 11.94 words\n",
            "\n",
            "Text: shakespeare-hamlet.txt\n",
            "  Average Word Length: 3.46 characters\n",
            "  Average Sentence Length: 12.03 words\n",
            "\n",
            "Text: shakespeare-macbeth.txt\n",
            "  Average Word Length: 3.47 characters\n",
            "  Average Sentence Length: 12.13 words\n",
            "\n",
            "Text: whitman-leaves.txt\n",
            "  Average Word Length: 3.70 characters\n",
            "  Average Sentence Length: 36.44 words\n",
            "\n"
          ]
        }
      ]
    },
    {
      "cell_type": "markdown",
      "source": [
        "## WordNet\n",
        "#### Description: A lexical database for the English language that groups words into sets of synonyms (synsets), provides short definitions and usage examples, and records various semantic relations between these synonym sets.\n",
        "#### Usage: Widely used for semantic analysis, word sense disambiguation, and more.\n",
        "### Command to Load: nltk.corpus.wordnet"
      ],
      "metadata": {
        "id": "irf00Sk46vVx"
      }
    },
    {
      "cell_type": "code",
      "source": [
        "from nltk.corpus import wordnet as wn\n",
        "\n"
      ],
      "metadata": {
        "id": "A145LPIA6-lW"
      },
      "execution_count": null,
      "outputs": []
    },
    {
      "cell_type": "code",
      "source": [
        "# Get synsets for a word\n",
        "word = 'car'\n",
        "synsets = wn.synsets(word)\n",
        "print(f\"Synsets for '{word}':\", synsets)\n",
        "\n",
        "# Get definition and examples for each synset\n",
        "for synset in synsets:\n",
        "    print(f\"Definition of '{synset.name()}': {synset.definition()}\")\n",
        "    print(f\"Examples: {synset.examples()}\")\n",
        "    print()\n",
        "\n",
        "\n"
      ],
      "metadata": {
        "colab": {
          "base_uri": "https://localhost:8080/"
        },
        "id": "DPpGH625_Eu9",
        "outputId": "f703e2d5-651c-4c36-88f8-525b1a63b1a7"
      },
      "execution_count": null,
      "outputs": [
        {
          "output_type": "stream",
          "name": "stdout",
          "text": [
            "Synsets for 'car': [Synset('car.n.01'), Synset('car.n.02'), Synset('car.n.03'), Synset('car.n.04'), Synset('cable_car.n.01')]\n",
            "Definition of 'car.n.01': a motor vehicle with four wheels; usually propelled by an internal combustion engine\n",
            "Examples: ['he needs a car to get to work']\n",
            "\n",
            "Definition of 'car.n.02': a wheeled vehicle adapted to the rails of railroad\n",
            "Examples: ['three cars had jumped the rails']\n",
            "\n",
            "Definition of 'car.n.03': the compartment that is suspended from an airship and that carries personnel and the cargo and the power plant\n",
            "Examples: []\n",
            "\n",
            "Definition of 'car.n.04': where passengers ride up and down\n",
            "Examples: ['the car was on the top floor']\n",
            "\n",
            "Definition of 'cable_car.n.01': a conveyance for passengers or freight on a cable railway\n",
            "Examples: ['they took a cable car to the top of the mountain']\n",
            "\n",
            "Synsets for 'plant': [Synset('plant.n.01'), Synset('plant.n.02'), Synset('plant.n.03'), Synset('plant.n.04'), Synset('plant.v.01'), Synset('implant.v.01'), Synset('establish.v.02'), Synset('plant.v.04'), Synset('plant.v.05'), Synset('plant.v.06')]\n",
            "Definition of 'plant.n.01': buildings for carrying on industrial labor\n",
            "Examples: ['they built a large plant to manufacture automobiles']\n",
            "\n",
            "Definition of 'plant.n.02': (botany) a living organism lacking the power of locomotion\n",
            "Examples: []\n",
            "\n",
            "Definition of 'plant.n.03': an actor situated in the audience whose acting is rehearsed but seems spontaneous to the audience\n",
            "Examples: []\n",
            "\n",
            "Definition of 'plant.n.04': something planted secretly for discovery by another\n",
            "Examples: ['the police used a plant to trick the thieves', 'he claimed that the evidence against him was a plant']\n",
            "\n",
            "Definition of 'plant.v.01': put or set (seeds, seedlings, or plants) into the ground\n",
            "Examples: [\"Let's plant flowers in the garden\"]\n",
            "\n",
            "Definition of 'implant.v.01': fix or set securely or deeply\n",
            "Examples: ['He planted a knee in the back of his opponent', 'The dentist implanted a tooth in the gum']\n",
            "\n",
            "Definition of 'establish.v.02': set up or lay the groundwork for\n",
            "Examples: ['establish a new department']\n",
            "\n",
            "Definition of 'plant.v.04': place into a river\n",
            "Examples: ['plant fish']\n",
            "\n",
            "Definition of 'plant.v.05': place something or someone in a certain position in order to secretly observe or deceive\n",
            "Examples: ['Plant a spy in Moscow', \"plant bugs in the dissident's apartment\"]\n",
            "\n",
            "Definition of 'plant.v.06': put firmly in the mind\n",
            "Examples: [\"Plant a thought in the students' minds\"]\n",
            "\n"
          ]
        }
      ]
    },
    {
      "cell_type": "code",
      "source": [
        "# Get synsets for a word\n",
        "word = 'plant'\n",
        "synsets = wn.synsets(word)\n",
        "print(f\"Synsets for '{word}':\", synsets)\n",
        "\n",
        "# Get definition and examples for each synset\n",
        "for synset in synsets:\n",
        "    print(f\"Definition of '{synset.name()}': {synset.definition()}\")\n",
        "    print(f\"Examples: {synset.examples()}\")\n",
        "    print()"
      ],
      "metadata": {
        "colab": {
          "base_uri": "https://localhost:8080/"
        },
        "id": "BKoIqweh_mTz",
        "outputId": "1c3ec5e0-a410-4d5d-ac28-e998c17752aa"
      },
      "execution_count": null,
      "outputs": [
        {
          "output_type": "stream",
          "name": "stdout",
          "text": [
            "Synsets for 'plant': [Synset('plant.n.01'), Synset('plant.n.02'), Synset('plant.n.03'), Synset('plant.n.04'), Synset('plant.v.01'), Synset('implant.v.01'), Synset('establish.v.02'), Synset('plant.v.04'), Synset('plant.v.05'), Synset('plant.v.06')]\n",
            "Definition of 'plant.n.01': buildings for carrying on industrial labor\n",
            "Examples: ['they built a large plant to manufacture automobiles']\n",
            "\n",
            "Definition of 'plant.n.02': (botany) a living organism lacking the power of locomotion\n",
            "Examples: []\n",
            "\n",
            "Definition of 'plant.n.03': an actor situated in the audience whose acting is rehearsed but seems spontaneous to the audience\n",
            "Examples: []\n",
            "\n",
            "Definition of 'plant.n.04': something planted secretly for discovery by another\n",
            "Examples: ['the police used a plant to trick the thieves', 'he claimed that the evidence against him was a plant']\n",
            "\n",
            "Definition of 'plant.v.01': put or set (seeds, seedlings, or plants) into the ground\n",
            "Examples: [\"Let's plant flowers in the garden\"]\n",
            "\n",
            "Definition of 'implant.v.01': fix or set securely or deeply\n",
            "Examples: ['He planted a knee in the back of his opponent', 'The dentist implanted a tooth in the gum']\n",
            "\n",
            "Definition of 'establish.v.02': set up or lay the groundwork for\n",
            "Examples: ['establish a new department']\n",
            "\n",
            "Definition of 'plant.v.04': place into a river\n",
            "Examples: ['plant fish']\n",
            "\n",
            "Definition of 'plant.v.05': place something or someone in a certain position in order to secretly observe or deceive\n",
            "Examples: ['Plant a spy in Moscow', \"plant bugs in the dissident's apartment\"]\n",
            "\n",
            "Definition of 'plant.v.06': put firmly in the mind\n",
            "Examples: [\"Plant a thought in the students' minds\"]\n",
            "\n"
          ]
        }
      ]
    },
    {
      "cell_type": "code",
      "source": [
        "# Get antonyms for the word 'good'\n",
        "good_synset = wn.synset('good.a.01')  # Specify the synset with '.a.01' for adjective\n",
        "antonyms = good_synset.lemmas()[0].antonyms()\n",
        "print(f\"Antonyms for 'good': {[antonym.name() for antonym in antonyms]}\")\n"
      ],
      "metadata": {
        "colab": {
          "base_uri": "https://localhost:8080/"
        },
        "id": "vxhK8jPA_LQQ",
        "outputId": "56784de8-5caa-4c2c-dd16-f3f02e4fc940"
      },
      "execution_count": null,
      "outputs": [
        {
          "output_type": "stream",
          "name": "stdout",
          "text": [
            "Antonyms for 'good': ['bad']\n"
          ]
        }
      ]
    },
    {
      "cell_type": "markdown",
      "source": [
        "## Stopwords Corpus:\n",
        "#### Description: A list of common stopwords (words that are usually filtered out in text processing) in multiple languages.\n",
        "#### Usage: Essential for preprocessing tasks to remove words that do not carry significant meaning.\n",
        "### Command to Load: nltk.corpus.stopwords"
      ],
      "metadata": {
        "id": "FZhVGV0x6_an"
      }
    },
    {
      "cell_type": "code",
      "source": [
        "from nltk.corpus import stopwords\n",
        "\n"
      ],
      "metadata": {
        "id": "cS9Cnl8L7Hyn"
      },
      "execution_count": null,
      "outputs": []
    },
    {
      "cell_type": "code",
      "source": [
        "# Load English stopwords\n",
        "stop_words = stopwords.words('english')\n",
        "print(f\"Total number of stopwords in English: {len(stop_words)}\")\n",
        "print(f\"First 10 stopwords: {stop_words[:10]}\")\n"
      ],
      "metadata": {
        "colab": {
          "base_uri": "https://localhost:8080/"
        },
        "id": "5WI-GUWr_2ws",
        "outputId": "e45ac28b-ed7c-4494-bd98-f47513ecd997"
      },
      "execution_count": null,
      "outputs": [
        {
          "output_type": "stream",
          "name": "stdout",
          "text": [
            "Total number of stopwords in English: 179\n",
            "First 10 stopwords: ['i', 'me', 'my', 'myself', 'we', 'our', 'ours', 'ourselves', 'you', \"you're\"]\n"
          ]
        }
      ]
    },
    {
      "cell_type": "code",
      "source": [
        "# List all languages available in the stopwords corpus\n",
        "languages = stopwords.fileids()\n",
        "print(f\"Languages available in the stopwords corpus: {languages}\")\n"
      ],
      "metadata": {
        "colab": {
          "base_uri": "https://localhost:8080/"
        },
        "id": "KdyK6Kbg_4bq",
        "outputId": "b91eb268-cd8c-4a8a-f612-22a19f8e52f2"
      },
      "execution_count": null,
      "outputs": [
        {
          "output_type": "stream",
          "name": "stdout",
          "text": [
            "Languages available in the stopwords corpus: ['arabic', 'azerbaijani', 'basque', 'bengali', 'catalan', 'chinese', 'danish', 'dutch', 'english', 'finnish', 'french', 'german', 'greek', 'hebrew', 'hinglish', 'hungarian', 'indonesian', 'italian', 'kazakh', 'nepali', 'norwegian', 'portuguese', 'romanian', 'russian', 'slovene', 'spanish', 'swedish', 'tajik', 'turkish']\n"
          ]
        }
      ]
    },
    {
      "cell_type": "code",
      "source": [
        "# Adding a custom stopword\n",
        "custom_stopwords = stop_words + ['example', 'demonstrating']\n",
        "\n",
        "# Remove custom stopwords from text\n",
        "filtered_custom = [word for word in words if word.lower() not in custom_stopwords]\n",
        "print(f\"Text after removing custom stopwords:\\n {' '.join(filtered_custom)}\")\n"
      ],
      "metadata": {
        "colab": {
          "base_uri": "https://localhost:8080/"
        },
        "id": "_PCx0C8W_9iz",
        "outputId": "3d48716f-4e42-4901-c876-d31817a942fe"
      },
      "execution_count": null,
      "outputs": [
        {
          "output_type": "stream",
          "name": "stdout",
          "text": [
            "Text after removing custom stopwords:\n",
            " [ Tragedie Hamlet William Shakespeare 1599 ] Actus Primus . Scoena Prima . Enter Barnardo Francisco two Centinels . Barnardo . ' ? Fran . Nay answer : Stand & vnfold selfe Bar . Long liue King Fran . Barnardo ? Bar . Fran . come carefully vpon houre Bar . ' Tis strook twelue , get thee bed Francisco Fran . releefe much thankes : ' Tis bitter cold , sicke heart Barn . Haue quiet Guard ? Fran . Mouse stirring Barn . Well , goodnight . meet Horatio Marcellus , Riuals Watch , bid make hast . Enter Horatio Marcellus . Fran . thinke heare . Stand : ' ? Hor . Friends ground Mar . Leige - men Dane Fran . Giue good night Mar . farwel honest Soldier , hath relieu ' ? Fra . Barnardo ha ' place : giue goodnight . Exit Fran . Mar . Holla Barnardo Bar . Say , Horatio ? Hor . peece Bar . Welcome Horatio , welcome good Marcellus Mar . , ha ' thing appear ' againe night Bar . haue seene nothing Mar . Horatio saies , ' tis Fantasie , let beleefe take hold Touching dreaded sight , twice seene vs , Therefore haue intreated along vs , watch minutes Night , againe Apparition come , may approue eyes , speake Hor . Tush , tush , ' twill appeare Bar . Sit downe - , let vs againe assaile eares , fortified Story , two Nights haue seene Hor . Well , sit downe , let vs heare Barnardo speake Barn . Last night , yond Starre ' Westward Pole made course ' illume part Heauen burnes , Marcellus selfe , Bell beating one Mar . Peace , breake thee : Enter Ghost . Looke comes againe Barn . figure , like King ' dead Mar . Thou art Scholler ; speake Horatio Barn . Lookes like King ? Marke Horatio Hora . like : harrowes fear & wonder Barn . would spoke Mar . Question Horatio Hor . art thou vsurp ' st time night , Together Faire Warlike forme Maiesty buried Denmarke sometimes march : Heauen charge thee speake Mar . offended Barn . See , stalkes away Hor . Stay : speake ; speake : Charge thee , speake . Exit Ghost . Mar . ' Tis gone , answer Barn . Horatio ? tremble & look pale : something Fantasie ? thinke ' ? Hor . God , might beleeue Without sensible true auouch mine owne eyes Mar . like King ? Hor . thou art thy selfe , Armour , th ' Ambitious Norwey combatted : frown ' , angry parle smot sledded Pollax Ice . ' Tis strange Mar . Thus twice , iust dead houre , Martiall stalke , hath gone Watch Hor . particular thought work , know : grosse scope Opinion , boades strange erruption State Mar . Good sit downe , & tell knowes strict obseruant Watch , nightly toyles subiect Land , dayly Cast Brazon Cannon Forraigne Mart Implements warre : impresse Ship - wrights , whose sore Taske ' diuide Sunday weeke , might toward , sweaty hast Doth make Night ioynt - Labourer day : ' informe ? Hor . , least whisper goes : last King , Whose Image euen appear ' vs , ( know ) Fortinbras Norway , ( Thereto prick ' emulate Pride ) Dar ' Combate . , Valiant Hamlet , ( side knowne world esteem ' ) slay Fortinbras : Seal ' Compact , Well ratified Law , Heraldrie , forfeite ( life ) Lands stood seiz ' , Conqueror : , Moity competent gaged King : return ' Inheritance Fortinbras , bin Vanquisher , Cou ' nant carriage Article designe , fell Hamlet . sir , young Fortinbras , vnimproued Mettle , hot full , Hath skirts Norway , heere , Shark ' vp List Landlesse Resolutes , Foode Diet , Enterprize hath stomacke ' : ( doth well appeare vnto State ) recouer vs strong hand termes Compulsatiue , foresaid Lands Father lost : ( take ) maine Motiue Preparations , Sourse Watch , cheefe head post - hast , Romage Land . Enter Ghost againe . soft , behold : Loe , comes againe : Ile crosse , though blast . Stay Illusion : thou hast sound , vse Voyce , Speake . good thing done , may thee ease , grace ; speak . thou art priuy thy Countries Fate ( happily foreknowing may auoyd ) Oh speake . , thou hast vp - hoorded thy life Extorted Treasure wombe Earth , ( , say , Spirits oft walke death ) Speake . Stay , speake . Stop Marcellus Mar . Shall strike Partizan ? Hor . , stand Barn . ' Tis heere Hor . ' Tis heere Mar . ' Tis gone . Exit Ghost . wrong , Maiesticall offer shew Violence , Ayre , invulnerable , vaine blowes , malicious Mockery Barn . speake , Cocke crew Hor . started , like guilty thing Vpon fearfull Summons . haue heard , Cocke Trumpet day , Doth lofty shrill - sounding Throate Awake God Day : warning , Whether Sea , Fire , Earth , Ayre , Th ' extrauagant , erring Spirit , hyes Confine . truth heerein , present Obiect made probation Mar . faded crowing Cocke . sayes , euer ' gainst Season comes Wherein Sauiours Birch celebrated , Bird Dawning singeth night long : ( say ) Spirit walke abroad , nights wholsome , Planets strike , Faiery talkes , Witch hath power Charme : hallow ' , gracious time Hor . haue heard , part beleeue . looke , Morne Russet mantle clad , Walkes ' dew yon high Easterne Hill , Breake Watch vp , aduice Let vs impart haue seene night Vnto yong Hamlet . vpon life , Spirit dumbe vs , speake : consent shall acquaint , needfull Loues , fitting Duty ? Mar . Let ' pray , morning know shall finde conueniently . Exeunt . Scena Secunda . Enter Claudius King Denmarke , Gertrude Queene , Hamlet , Polonius , Laertes , Sister Ophelia , Lords Attendant . King . Though yet Hamlet deere Brothers death memory greene : vs befitted beare hearts greefe , whole Kingdome contracted one brow woe : Yet farre hath Discretion fought Nature , wisest sorrow thinke , Together remembrance selues . Therefore sometimes Sister , Queene , Th ' imperiall Ioyntresse warlike State , Haue , ' twere , defeated ioy , one Auspicious , one Dropping eye , mirth Funerall , Dirge Marriage , equall Scale weighing Delight Dole Taken Wife ; haue heerein barr ' better Wisedomes , haue freely gone affaire along , Thankes . followes , know young Fortinbras , Holding weake supposall worth ; thinking late deere Brothers death , State disioynt , Frame , Colleagued dreame Aduantage ; hath fayl ' pester vs Message , Importing surrender Lands Lost Father : Bonds Law valiant Brother . much . Enter Voltemand Cornelius . selfe , time meeting Thus much businesse . haue heere writ Norway , Vncle young Fortinbras , Impotent Bedrid , scarsely heares Nephewes purpose , suppresse gate heerein . Leuies , Lists , full proportions made subiect : heere dispatch good Cornelius , Voltemand , bearing greeting old Norway , Giuing personall power businesse King , scope dilated Articles allow : Farewell , let hast commend duty Volt . , things , shew duty King . doubt nothing , heartily farewell . Exit Voltemand Cornelius . Laertes , ' newes ? told vs suite . ' Laertes ? cannot speake Reason Dane , loose voyce . would ' st thou beg Laertes , shall Offer , thy Asking ? Head Natiue Heart , Hand instrumentall Mouth , Throne Denmarke thy Father . would ' st thou haue Laertes ? Laer . Dread Lord , leaue fauour returne France , whence , though willingly came Denmarke shew duty Coronation , Yet must confesse , duty done , thoughts wishes bend againe towards France , bow gracious leaue pardon King . Haue Fathers leaue ? sayes Pollonius ? Pol . hath Lord : beseech giue leaue go King . Take thy faire houre Laertes , time thine , thy best graces spend thy : Cosin Hamlet , Sonne ? Ham . little kin , lesse kinde King . Clouds still hang ? Ham . Lord , much ' th ' Sun Queen . Good Hamlet cast thy nightly colour , let thine eye looke like Friend Denmarke . euer thy veyled lids Seeke thy Noble Father dust ; Thou know ' st ' tis common , liues must dye , Passing Nature , Eternity Ham . Madam , common Queen . ; seemes particular thee Ham . Seemes Madam ? Nay , : know Seemes : ' Tis alone Inky Cloake ( good Mother ) Customary suites solemne Blacke , windy suspiration forc ' breath , , fruitfull Riuer Eye , deiected hauiour Visage , Together Formes , Moods , shewes Griefe , denote truly . indeed Seeme , actions man might play : haue Within , passeth show ; , Trappings , Suites woe King . ' Tis sweet commendable Nature Hamlet , giue mourning duties Father : must know , Father lost Father , Father lost , lost , Suruiuer bound filiall Obligation , terme obsequious Sorrow . perseuer obstinate Condolement , course impious stubbornnesse . ' Tis vnmanly greefe , shewes incorrect Heauen , Heart vnfortified , Minde impatient , Vnderstanding simple , vnschool ' : , know must , common vulgar thing sence , peeuish Opposition Take heart ? Fye , ' tis fault Heauen , fault Dead , fault Nature , Reason absurd , whose common Theame death Fathers , still hath cried , first Coarse , till dyed day , must . pray throw earth vnpreuayling woe , thinke vs Father ; let world take note , immediate Throne , lesse Nobility Loue , deerest Father beares Sonne , impart towards . intent going backe Schoole Wittenberg , retrograde desire : beseech , bend remaine Heere cheere comfort eye , cheefest Courtier Cosin , Sonne Qu . Let thy Mother lose Prayers Hamlet : prythee stay vs , go Wittenberg Ham . shall best Obey Madam King . ' tis louing , faire Reply , selfe Denmarke . Madam come , gentle vnforc ' accord Hamlet Sits smiling heart ; grace whereof , iocond health Denmarke drinkes day , great Cannon Clowds shall tell , Kings Rouce , Heauens shall bruite againe , Respeaking earthly Thunder . Come away . Exeunt . Manet Hamlet . Ham . Oh solid Flesh , would melt , Thaw , resolue selfe Dew : Euerlasting fixt Cannon ' gainst Selfe - slaughter . God , God ! weary , stale , flat , vnprofitable Seemes vses world ? Fie ' ? Oh fie , fie , ' tis vnweeded Garden growes Seed : Things rank , grosse Nature Possesse meerely . come : two months dead : Nay , much ; two , excellent King , Hiperion Satyre : louing Mother , might beteene windes heauen Visit face roughly . Heauen Earth Must remember : would hang , encrease Appetite growne fed ; yet within month ? Let thinke ' : Frailty , thy name woman . little Month , ere shooes old , followed poore Fathers body Like Niobe , teares . , euen . ( Heauen ! beast wants discourse Reason Would haue mourn ' longer ) married mine Vnkle , Fathers Brother : like Father , Hercules . Within Moneth ? Ere yet salt vnrighteous Teares left flushing gauled eyes , married . wicked speed , post dexterity Incestuous sheets : , cannot come good . breake heart , must hold tongue . Enter Horatio , Barnardo , Marcellus . Hor . Haile Lordship Ham . glad see well : Horatio , forget selfe Hor . Lord , poore Seruant euer Ham . Sir good friend , Ile change name : make Wittenberg Horatio ? Marcellus Mar . good Lord Ham . glad see : good euen Sir . faith make Wittemberge ? Hor . truant disposition , good Lord Ham . would haue Enemy say ; shall doe mine eare violence , make truster owne report selfe . know Truant : affaire Elsenour ? Wee ' l teach drinke deepe , ere depart Hor . Lord , came see Fathers Funerall Ham . pray thee doe mock ( fellow Student ) thinke see Mothers Wedding Hor . Indeed Lord , followed hard vpon Ham . Thrift thrift Horatio : Funerall Bakt - meats coldly furnish forth Marriage Tables ; Would met dearest foe heauen , Ere euer seene day Horatio . father , thinkes see father Hor . Oh Lord ? Ham . minds eye ( Horatio ) Hor . saw ; goodly King Ham . man , take : shall look vpon like againe Hor . Lord , thinke saw yesternight Ham . Saw ? ? Hor . Lord , King Father Ham . King Father ? Hor . Season admiration attent eare ; till may deliuer Vpon witnesse Gentlemen , maruell Ham . Heauens loue let heare Hor . Two nights together , Gentlemen ( Marcellus Barnardo ) Watch dead wast middle night Beene thus encountred . figure like Father , Arm ' points exactly , Cap Pe , Appeares , sollemne march Goes slow stately : thrice walkt , opprest feare - surprized eyes , Within Truncheons length ; whilst bestil ' Almost Ielly Act feare , Stand dumbe speake . dreadfull secrecie impart , third Night kept Watch , Whereas deliuer ' time , Forme thing ; word made true good , Apparition comes . knew Father : hands like Ham . ? Mar . Lord vpon platforme watcht Ham . speake ? Hor . Lord , ; answere made none : yet thought lifted vp head , addresse selfe motion , like would speake : euen , Morning Cocke crew lowd ; sound shrunke hast away , vanisht sight Ham . Tis strange Hor . doe liue honourd Lord ' tis true ; thinke writ downe duty let know Ham . Indeed , indeed Sirs ; troubles . Hold watch Night ? . doe Lord Ham . Arm ' , say ? . Arm ' , Lord Ham . top toe ? . Lord , head foote Ham . saw face ? Hor . yes , Lord , wore Beauer vp Ham . , lookt frowningly ? Hor . countenance sorrow anger Ham . Pale , red ? Hor . Nay pale Ham . fixt eyes vpon ? Hor . constantly Ham . would beene Hor . would haue much amaz ' Ham . like , like : staid long ? Hor . one moderate hast might tell hundred . Longer , longer Hor . saw ' Ham . Beard grisly ? Hor . , haue seene life , Sable Siluer ' Ham . Ile watch Night ; perchance ' twill wake againe Hor . warrant Ham . assume noble Fathers person , Ile speake , though Hell selfe gape bid hold peace . pray , haue hitherto conceald sight ; Let bee treble silence still : whatsoeuer els shall hap night , Giue vnderstanding tongue ; requite loues ; fare ye well : Vpon Platforme twixt eleuen twelue , Ile visit . duty Honour . Exeunt Ham . loue , mine : farewell . Fathers Spirit Armes ? well : doubt foule play : would Night come ; Till sit still soule ; foule deeds rise , Though earth orewhelm mens eies . Enter . Scena Tertia Enter Laertes Ophelia . Laer . necessaries imbark ' ; Farewell : Sister , Winds giue Benefit , Conuoy assistant ; doe sleepe , let heare Ophel . Doe doubt ? Laer . Hamlet , trifling fauours , Hold fashion toy Bloude ; Violet youth Primy Nature ; Froward , permanent ; sweet lasting suppliance minute ? Ophel . Laer . Thinke : nature cressant grow alone , thewes Bulke : Temple waxes , inward seruice Minde Soule Growes wide withall . Perhaps loues , soyle cautell doth besmerch vertue feare : must feare greatnesse weigh ' , owne ; hee himselfe subiect Birth : Hee may , vnuallued persons doe , Carue himselfe ; , choyce depends sanctity health whole State . therefore must choyce circumscrib ' Vnto voyce yeelding Body , Whereof Head . sayes loues , fits wisedome farre beleeue ; peculiar Sect force May giue saying deed : , maine voyce Denmarke goes withall . weight losse Honour may sustaine , credent eare list Songs ; lose Heart ; chast Treasure open vnmastred importunity . Feare Ophelia , feare deare Sister , keepe within reare Affection ; shot danger Desire . chariest Maid Prodigall enough , vnmaske beauty Moone : Vertue selfe scapes calumnious stroakes , Canker Galls , Infants Spring oft buttons disclos ' , Morne liquid dew Youth , Contagious blastments imminent . wary , best safety lies feare ; Youth selfe rebels , though none else neere Ophe . shall th ' effect good Lesson keepe , watchmen heart : good Brother Doe vngracious Pastors doe , Shew steepe thorny way Heauen ; Whilst like puft recklesse Libertine Himselfe , Primrose path dalliance treads , reaks owne reade Laer . Oh , feare . Enter Polonius . stay long ; Father comes : double blessing double grace ; Occasion smiles vpon second leaue Polon . Yet heere Laertes ? Aboord , aboord shame , winde sits shoulder saile , staid : blessing ; Precepts thy memory , See thou Character . Giue thy thoughts tongue , vnproportion ' thoughts Act : thou familiar ; meanes vulgar : friends thou hast , adoption tride , Grapple thy Soule , hoopes Steele : doe dull thy palme , entertainment vnhatch ' , vnfledg ' Comrade . Beware entrance quarrell : Bear ' th ' opposed may beware thee . Giue euery man thine eare ; thy voyce : Take mans censure ; reserue thy iudgement : Costly thy habit thy purse buy ; exprest fancie ; rich , gawdie : Apparell oft proclaimes man . France best ranck station , select generous cheff . Neither borrower , lender ; lone oft loses selfe friend : borrowing duls edge Husbandry . aboue ; thine owne selfe true : must follow , Night Day , Thou canst false man . Farewell : Blessing season thee Laer . humbly doe take leaue , Lord Polon . time inuites , goe , seruants tend Laer . Farewell Ophelia , remember well haue said Ophe . Tis memory lockt , selfe shall keepe key Laer . Farewell . Exit Laer . Polon . ist Ophelia hath said ? Ophe . please , somthing touching L [ ord ]. Hamlet Polon . Marry , well bethought : Tis told hath oft late Giuen priuate time ; selfe Haue audience beene free bounteous . , tis put ; way caution : must tell , doe vnderstand selfe cleerely , behoues Daughter , Honour . betweene , giue vp truth ? Ophe . hath Lord late , made many tenders affection Polon . Affection , puh . speake like greene Girle , Vnsifted perillous Circumstance . Doe beleeue tenders , call ? Ophe . know , Lord , thinke Polon . Marry Ile teach ; thinke selfe Baby , haue tane tenders true pay , starling . Tender selfe dearly ; crack winde poore Phrase , Roaming thus , ' l tender foole Ophe . Lord , hath importun ' loue , honourable fashion Polon . , fashion may call , go , go Ophe . hath giuen countenance speech , Lord , vowes Heauen Polon . , Springes catch Woodcocks . doe know Bloud burnes , Prodigall Soule Giues tongue vowes : blazes , Daughter , Giuing light heate ; extinct , Euen promise , making ; must take fire . time Daughter , somewhat scanter Maiden presence ; Set entreatments higher rate , command parley . Lord Hamlet , Beleeue much , young , larger tether may walke , may giuen . , Ophelia , Doe beleeue vowes ; Broakers , eye , Inuestments show : meere implorators vnholy Sutes , Breathing like sanctified pious bonds , better beguile . : would , plaine tearmes , time forth , Haue slander moment leisure , giue words talke Lord Hamlet : Looke ' , charge ; come wayes Ophe . shall obey Lord . Exeunt . Enter Hamlet , Horatio , Marcellus . Ham . Ayre bites shrewdly : cold ? Hor . nipping eager ayre Ham . hower ? Hor . thinke lacks twelue Mar . , strooke Hor . Indeed heard : drawes neere season , Wherein Spirit held wont walke . meane Lord ? Ham . King doth wake night , takes rouse , Keepes wassels swaggering vpspring reeles , dreines draughts Renish downe , kettle Drum Trumpet thus bray triumph Pledge Horat . custome ? Ham . marry ist ; mind , though natiue heere , manner borne : Custome honour ' breach , obseruance . Enter Ghost . Hor . Looke Lord , comes Ham . Angels Ministers Grace defend vs : thou Spirit health , Goblin damn ' , Bring thee ayres Heauen , blasts Hell , thy euents wicked charitable , Thou com ' st questionable shape speake thee . Ile call thee Hamlet , King , Father , Royall Dane : Oh , oh , answer , Let burst Ignorance ; tell thy Canoniz ' bones Hearsed death , Haue burst cerments , Sepulcher Wherein saw thee quietly enurn ' , Hath op ' ponderous Marble iawes , cast thee vp againe ? may meane ? thou dead Coarse againe compleat steele , Reuisits thus glimpses Moone , Making Night hidious ? fooles Nature , horridly shake disposition , thoughts beyond thee ; reaches Soules , Say , ? wherefore ? doe ? Ghost beckens Hamlet . Hor . beckons goe away , impartment desire alone Mar . Looke courteous action wafts remoued ground : doe goe Hor . , meanes Ham . speake : follow Hor . Doe Lord Ham . , feare ? doe set life pins fee ; Soule , doe ? thing immortall selfe : waues forth againe ; Ile follow Hor . tempt toward Floud Lord ? dreadfull Sonnet Cliffe , beetles ' base Sea , assumes horrible forme , might depriue Soueraignty Reason , draw madnesse thinke ? Ham . wafts still : goe , Ile follow thee Mar . shall goe Lord Ham . Hold hand Hor . rul ' , shall goe Ham . fate cries , makes petty Artire body , hardy Nemian Lions nerue : Still cal ' ? Vnhand Gentlemen : Heau ' n , Ile make Ghost lets : say away , goe , Ile follow thee . Exeunt . Ghost & Hamlet . Hor . waxes desperate imagination Mar . Let ' follow ; ' tis fit thus obey Hor . Haue , issue come ? Mar . Something rotten State Denmarke Hor . Heauen direct Mar . Nay , let ' follow . Exeunt . Enter Ghost Hamlet . Ham . wilt thou lead ? speak ; Ile go Gho . Marke Ham . Gho . hower almost come , sulphurous tormenting Flames Must render vp selfe Ham . Alas poore Ghost Gho . Pitty , lend thy serious hearing shall vnfold Ham . Speake , bound heare Gho . art thou reuenge , thou shalt heare Ham . ? Gho . thy Fathers Spirit , Doom ' certaine terme walke night ; day confin ' fast Fiers , Till foule crimes done dayes Nature burnt purg ' away ? forbid tell secrets Prison - House ; could Tale vnfold , whose lightest word Would harrow vp thy soule , freeze thy young blood , Make thy two eyes like Starres , start Spheres , Thy knotty combined lockes part , particular haire stand end , Like Quilles vpon fretfull Porpentine : eternall blason must eares flesh bloud ; list Hamlet , oh list , thou didst euer thy deare Father loue Ham . Oh Heauen ! Gho . Reuenge foule vnnaturall Murther Ham . Murther ? Ghost . Murther foule , best ; foule , strange , vnnaturall Ham . Hast , hast know , wings swift meditation , thoughts Loue , May sweepe Reuenge Ghost . finde thee apt , duller ' st thou fat weede rots selfe ease , Lethe Wharfe , Would ' st thou stirre . Hamlet heare : ' giuen , sleeping mine Orchard , Serpent stung : whole eare Denmarke , forged processe death Rankly abus ' : know thou Noble youth , Serpent sting thy Fathers life , weares Crowne Ham . Propheticke soule : mine Vncle ? Ghost . incestuous , adulterate Beast witchcraft wits , hath Traitorous guifts . Oh wicked Wit , Gifts , haue power seduce ? shamefull Lust seeming vertuous Queene : Oh Hamlet , falling , , whose loue dignity , went hand hand , euen Vow made Marriage ; decline Vpon wretch , whose Naturall gifts poore mine . Vertue , neuer wil moued , Though Lewdnesse court shape Heauen : Lust , though radiant Angell link ' , sate selfe Celestiall bed , & prey Garbage . soft , thinkes sent Mornings Ayre ; Briefe let : Sleeping within mine Orchard , custome alwayes afternoone ; Vpon secure hower thy Vncle stole iuyce cursed Hebenon Violl , Porches mine eares poure leaperous Distilment ; whose effect Holds enmity bloud Man , swift Quick - siluer , courses naturall Gates Allies body ; sodaine vigour doth posset curd , like Aygre droppings Milke , thin wholsome blood : mine ; instant Tetter bak ' , Lazar - like , vile loathsome crust , smooth Body . Thus , sleeping , Brothers hand , Life , Crowne , Queene dispatcht ; Cut euen Blossomes Sinne , Vnhouzzled , disappointed , vnnaneld , reckoning made , sent account imperfections head ; Oh horrible Oh horrible , horrible : thou hast nature thee beare ; Let Royall Bed Denmarke Couch Luxury damned Incest . howsoeuer thou pursuest Act , Taint thy mind ; let thy Soule contriue thy Mother ought ; leaue heauen , Thornes bosome lodge , pricke sting . Fare thee well ; Glow - worme showes Matine neere , gins pale vneffectuall Fire : Adue , adue , Hamlet : remember . Enter . Ham . Oh host Heauen ! Oh Earth ; els ? shall couple Hell ? Oh fie : hold heart ; sinnewes , grow instant Old ; beare stiffely vp : Remember thee ? , thou poore Ghost , memory holds seate distracted Globe : Remember thee ? Yea , Table Memory , Ile wipe away triuiall fond Records , sawes Bookes , formes , presures past , youth obseruation coppied ; thy Commandment alone shall liue Within Booke Volume Braine , Vnmixt baser matter ; yes yes , Heauen : Oh pernicious woman ! Oh Villaine , Villaine , smiling damned Villaine ! Tables , Tables ; meet set downe , one may smile , smile Villaine ; least ' sure may Denmarke ; Vnckle : word ; ; Adue , Adue , Remember : haue sworn ' Hor . & Mar . within . Lord , Lord . Enter Horatio Marcellus . Mar . Lord Hamlet Hor . Heauen secure Mar . Hor . Illo , ho , ho , Lord Ham . Hillo , ho , ho , boy ; come bird , come Mar . ist Noble Lord ? Hor . newes , Lord ? Ham . Oh wonderfull ! Hor . Good Lord tell Ham . ' l reueale Hor . , Lord , Heauen Mar . , Lord Ham . say , would heart man think ? ' l secret ? . , Heau ' n , Lord Ham . ' nere villaine dwelling Denmarke hee ' arrant knaue Hor . needs Ghost Lord , come Graue , tell vs Ham . right , ' th ' right ; , without circumstance , hold fit shake hands , part : , busines desires shall point : euery man ha ' businesse desire , : mine owne poore part , Looke , Ile goe pray Hor . wild hurling words , Lord Ham . ' sorry offend heartily : Yes faith , heartily Hor . ' offence Lord Ham . Yes , Saint Patricke , Lord , much offence , touching Vision heere : honest Ghost , let tell : desire know betweene vs , ' remaster ' may . good friends , Friends , Schollers Soldiers , Giue one poore request Hor . ' Lord ? Ham . Neuer make known haue seen night . Lord , Ham . Nay , swear ' Hor . Infaith Lord , Mar . Lord : faith Ham . Vpon sword Marcell . haue sworne Lord already Ham . Indeed , vpon sword , Indeed Gho . Sweare . Ghost cries vnder Stage . Ham . Ah ha boy , sayest thou . Art thou truepenny ? Come one fellow selleredge Consent sweare Hor . Propose Oath Lord Ham . Neuer speake haue seene . Sweare sword Gho . Sweare Ham . Hic & vbique ? wee ' l shift grownd , Come hither Gentlemen , lay hands againe vpon sword , Neuer speake haue heard : Sweare Sword Gho . Sweare Ham . Well said old Mole , ' st worke ' th ' ground fast ? worthy Pioner , remoue good friends Hor . Oh day night : wondrous strange Ham . therefore stranger giue welcome . things Heauen Earth , Horatio , dream ' Philosophy . come , , neuer helpe mercy , strange odde ere beare selfe ; ( perchance heereafter shall thinke meet put Anticke disposition :) time seeing , neuer shall Armes encombred thus , thus , head shake ; pronouncing doubtfull Phrase ; well , know , could would , list speake ; might , ambiguous giuing note , know ought ; doe : grace mercy neede helpe : Sweare Ghost . Sweare Ham . Rest , rest perturbed Spirit : Gentlemen , loue doe commend ; poore man Hamlet , May doe ' expresse loue friending , God willing shall lacke : let vs goe together , still fingers lippes pray , time ioynt : Oh cursed spight , euer borne set right . Nay , come let ' goe together . Exeunt . Actus Secundus . Enter Polonius , Reynoldo . Polon . Giue money , notes Reynoldo Reynol . Lord Polon . shall doe maruels wisely : good Reynoldo , visite make inquiry behauiour Reynol . Lord , intend Polon . Marry , well said ; well said . Looke Sir , Enquire first Danskers Paris ; , ; meanes ; keepe : company , expence : finding encompassement drift question , doe know sonne : Come neerer particular demands touch , Take ' twere distant knowledge , thus know father friends , part . Doe marke Reynoldo ? Reynol . , well Lord Polon . part , may say well ; ' hee meane , hees wilde ; Addicted ; put forgeries please ; marry , none ranke , may dishonour ; take heed : Sir , wanton , wild , vsuall slips , Companions noted knowne youth liberty Reynol . gaming Lord Polon . , drinking , fencing , swearing , Quarelling , drabbing . may goe farre Reynol . Lord would dishonour Polon . Faith , may season charge ; must put another scandall , hee open Incontinencie ; ' meaning : breath faults quaintly , may seeme taints liberty ; flash - breake fiery minde , sauagenes vnreclaim ' bloud generall assault Reynol . good Lord Polon . Wherefore doe ? Reynol . Lord , would know Polon . Marry Sir , heere ' drift , belieue fetch warrant : laying slight sulleyes Sonne , ' twere thing little soil ' ' th ' working : Marke party conuerse ; would sound , Hauing euer seene . prenominate crimes , youth breath guilty , assur ' closes consequence : Good sir , , friend , Gentleman . According Phrase Addition , man Country Reynol . good Lord Polon . Sir ? : say ? say somthing : leaue ? Reynol . closes consequence : friend , , Gentleman Polon . closes consequence , marry , closes thus . know Gentleman , saw yesterday , tother day ; , ; say , gaming , ' retooke ' Rouse , falling Tennis ; perchance , saw enter house saile ; Videlicet , Brothell , forth . See ; bait falshood , takes Cape truth ; thus doe wisedome reach windlesses , assaies Bias , indirections finde directions : former Lecture aduice Shall Sonne ; haue , haue ? Reynol . Lord haue Polon . God buy ; fare well Reynol . Good Lord Polon . Obserue inclination selfe Reynol . shall Lord Polon . let plye Musicke Reynol . Well , Lord . Enter . Enter Ophelia . Polon . Farewell : Ophelia , ' matter ? Ophe . Alas Lord , haue beene affrighted Polon . , name Heauen ? Ophe . Lord , sowing Chamber , Lord Hamlet doublet vnbrac ' , hat vpon head , stockings foul ' , Vngartred , downe giued Anckle , Pale shirt , knees knocking , looke pitious purport , loosed hell , speake horrors : comes Polon . Mad thy Loue ? Ophe . Lord , doe know : truly feare Polon . said ? Ophe . tooke wrist , held hard ; goes length arme ; hand thus ' brow , fals perusall face , would draw . Long staid , last , little shaking mine Arme : thrice head thus wauing vp downe ; rais ' sigh , pittious profound , seeme shatter bulke , end . done , lets goe , head ouer shoulders turn ' , seem ' finde way without eyes , adores went without helpe ; last , bended light Polon . Goe , goe seeke King , extasie Loue , Whose violent property foredoes selfe , leads desperate Vndertakings , oft passion vnder Heauen , afflict Natures . sorrie , haue giuen hard words late ? Ophe . good Lord : command , repell Letters , deny ' de accesse Pol . hath made mad . sorrie better speed iudgement quoted . feare trifle , meant wracke thee : beshrew iealousie : seemes proper Age , cast beyond selues Opinions , common yonger sort lacke discretion . Come , go King , must knowne , kept close might moue greefe hide , hate vtter loue . Exeunt . Scena Secunda . Enter King , Queene , Rosincrane , Guildensterne Cum alijs . King . Welcome deere Rosincrance Guildensterne . Moreouer , much long see , neede haue vse , prouoke hastie sending . Something haue heard Hamlets transformation : call , Since th ' exterior , inward man Resembles . bee Fathers death , thus hath put much th ' vnderstanding himselfe , cannot deeme . intreat , young dayes brought vp : since Neighbour ' youth , humour , vouchsafe rest heere Court little time : Companies draw pleasures , gather much Occasions may gleane , open ' lies within remedie Qu . Good Gentlemen , hath much talk ' , sure , two men liuing , adheres . please shew vs much Gentrie , good , expend time vs - , supply profit Hope , Visitation shall receiue thankes fits Kings remembrance Rosin . Maiesties Might Soueraigne power haue vs , Put dread pleasures , Command Entreatie Guil . obey , giue vp selues , full bent , lay Seruices freely feete , commanded King . Thankes Rosincrance , gentle Guildensterne Qu . Thankes Guildensterne gentle Rosincrance . beseech instantly visit much changed Sonne . Go ye , bring Gentlemen Hamlet Guil . Heauens make presence practises Pleasant helpfull . Enter . Queene . Amen . Enter Polonius . Pol . Th ' Ambassadors Norwey , good Lord , ioyfully return ' King . Thou still hast bin father good Newes Pol . Haue , Lord ? Assure , good Liege , hold dutie , hold Soule , God , one gracious King : thinke , else braine mine Hunts traile Policie , sure haue vs ' : haue found cause Hamlets Lunacie King . Oh speake , long heare Pol . Giue first admittance th ' Ambassadors , Newes shall Newes great Feast King . Thy selfe grace , bring . tels sweet Queene , hath found head sourse Sonnes distemper Qu . doubt , maine , Fathers death , ' - hasty Marriage . Enter Polonius , Voltumand , Cornelius . King . Well , shall sift . Welcome good Frends : Say Voltumand , Brother Norwey ? Volt . faire returne Greetings , Desires . Vpon first , sent suppresse Nephewes Leuies , appear ' preparation ' gainst Poleak : better look ' , truly found Highnesse , whereat greeued , Sicknesse , Age , Impotence falsely borne hand , sends Arrests Fortinbras , ( breefe ) obeyes , Receiues rebuke Norwey : fine , Makes Vow Vnkle , neuer giue th ' assay Armes Maiestie . Whereon old Norwey , ouercome ioy , Giues three thousand Crownes Annuall Fee , Commission imploy Soldiers leuied , Poleak : intreaty heerein shewne , might please giue quiet passe Dominions , Enterprize , regards safety allowance , therein set downe King . likes vs well : consider ' time wee ' l read , Answer , thinke vpon Businesse . Meane time thanke , well - tooke Labour . Go rest , night wee ' l Feast together . welcome home . Exit Ambass . Pol . businesse well ended . Liege , Madam , expostulate Maiestie , Dutie , day day ; night , night ; time time , nothing waste Night , Day , Time . Therefore , since Breuitie Soule Wit , tediousnesse , limbes outward flourishes , breefe . Noble Sonne mad : Mad call ; define true Madnesse , ' , nothing else mad . let go Qu . matter , lesse Art Pol . Madam , sweare vse Art : mad , ' tis true : ' Tis true ' tis pittie , pittie true : foolish figure , farewell : vse Art . Mad let vs grant : remaines finde cause effect , rather say , cause defect ; effect defectiue , comes cause , Thus remaines , remainder thus . Perpend , haue daughter : haue , whil ' st mine , Dutie Obedience , marke , Hath giuen : gather , surmise . Letter . Celestiall , Soules Idoll , beautifed Ophelia . ' ill Phrase , vilde Phrase , beautified vilde Phrase : shall heare excellent white bosome , Qu . Came Hamlet Pol . Good Madam stay awhile , faithfull . Doubt thou , Starres fire , Doubt , Sunne doth moue : Doubt Truth Lier , neuer Doubt , loue . deere Ophelia , ill Numbers : haue Art reckon grones ; loue thee best , oh Best beleeue . Adieu . Thine euermore deere Lady , whilst Machine , Hamlet . Obedience hath daughter shew ' : aboue hath soliciting , fell Time , Meanes , Place , giuen mine eare King . hath receiu ' Loue ? Pol . thinke ? King . man , faithfull Honourable Pol . wold faine proue . might think ? seene hot loue wing , perceiued , must tell Daughter told might deere Maiestie Queene heere , think , playd Deske Table - booke , giuen heart winking , mute dumbe , look ' vpon Loue , idle sight , might thinke ? , went round worke , ( yong Mistris ) thus bespeake Lord Hamlet Prince thy Starre , must : , Precepts gaue , locke selfe Resort , Admit Messengers , receiue Tokens : done , tooke Fruites Aduice , repulsed . short Tale make , Fell Sadnesse , Fast , Thence Watch , thence Weaknesse , Thence Lightnesse , declension Madnesse whereon raues , waile King . thinke ' tis ? Qu . may likely Pol . Hath bene time , ' de fain know , haue possitiuely said , ' tis , prou ' otherwise ? King . know Pol . Take ; otherwise , Circumstances leade , finde truth hid , though hid indeede Within Center King . may try ? Pol . know sometimes walkes foure houres together , heere Lobby Qu . ha ' indeed Pol . time Ile loose Daughter , behinde Arras , Marke encounter : loue , reason falne thereon ; Let Assistant State , keepe Farme Carters King . try . Enter Hamlet reading Booke . Qu . looke sadly poore wretch Comes reading Pol . Away beseech , away , Ile boord presently . Exit King & Queen . Oh giue leaue . good Lord Hamlet ? Ham . Well , God - - mercy Pol . know , Lord ? Ham . Excellent , excellent well : ' Fishmonger Pol . Lord Ham . would honest man Pol . Honest , Lord ? Ham . sir , honest world goes , bee one man pick ' two thousand Pol . ' true , Lord Ham . Sun breed Magots dead dogge , good kissing Carrion - Haue daughter ? Pol . haue Lord Ham . Let walke ' thSunne : Conception blessing , daughter may conceiue . Friend looke ' Pol . say ? Still harping daughter : yet knew first ; said Fishmonger : farre gone , farre gone : truly youth , suffred much extreamity loue : neere . Ile speake againe . read Lord ? Ham . Words , words , words Pol . matter , Lord ? Ham . Betweene ? Pol . meane matter meane , Lord Ham . Slanders Sir : Satyricall slaue saies , old men haue gray Beards ; faces wrinkled ; eyes purging thicke Amber , Plum - Tree Gumme : haue plentifull locke Wit , together weake Hammes . Sir , though powerfully , potently beleeue ; yet holde Honestie haue thus set downe : selfe Sir , old , like Crab could go backward Pol . Though madnesse , Yet Method ' : walke ayre Lord ? Ham . Graue ? Pol . Indeed ' th ' Ayre : pregnant ( sometimes ) Replies ? happinesse , often Madnesse hits , Reason Sanitie could prosperously deliuer ' . leaue , sodainely contriue meanes meeting Betweene , daughter . Honourable Lord , humbly Take leaue Ham . cannot Sir take thing , willingly part withall , except life , life Polon . Fare well Lord Ham . tedious old fooles Polon . goe seeke Lord Hamlet ; hee . Enter Rosincran Guildensterne . Rosin . God saue Sir Guild . Mine honour ' Lord ? Rosin . deare Lord ? Ham . excellent good friends ? ' st thou Guildensterne ? Oh , Rosincrane ; good Lads : doe ye ? Rosin . indifferent Children earth Guild . Happy , ouer - happy : Fortunes Cap , Button Ham . Soales Shoo ? Rosin . Neither Lord Ham . liue waste , middle fauour ? Guil . Faith , priuates , Ham . secret parts Fortune ? Oh , true : Strumpet . ' newes ? Rosin . None Lord ; World ' growne honest Ham . Doomesday neere : newes true . Let question particular : haue good friends , deserued hands Fortune , sends Prison hither ? Guil . Prison , Lord ? Ham . Denmark ' Prison Rosin . World one Ham . goodly one , many Confines , Wards , Dungeons ; Denmarke one ' th ' worst Rosin . thinke Lord Ham . ' tis none ; nothing either good bad , thinking makes : prison Rosin . Ambition makes one : ' tis narrow minde Ham . God , could bounded nutshell , count selfe King infinite space ; haue bad dreames Guil . dreames indeed Ambition : substance Ambitious , meerely shadow Dreame Ham . dreame selfe shadow Rosin . Truely , hold Ambition ayry light quality , shadowes shadow Ham . Beggers bodies ; Monarchs - stretcht Heroes Beggers Shadowes : shall wee th ' Court : , fey cannot reason ? . Wee ' l wait vpon Ham . matter . sort rest seruants : speake like honest man : dreadfully attended ; beaten way friendship , make Elsonower ? Rosin . visit Lord , occasion Ham . Begger , euen poore thankes ; thanke : sure deare friends thanks deare halfepeny ; sent ? owne inclining ? free visitation ? Come , deale iustly : come , come ; nay speake Guil . say Lord ? Ham . thing . purpose ; sent ; kinde confession lookes ; modesties haue craft enough color , know good King & Queene haue sent Rosin . end Lord ? Ham . must teach : let mee coniure rights fellowship , consonancy youth , Obligation euer - preserued loue , deare , better proposer could charge withall ; euen direct , whether sent Rosin . say ? Ham . Nay haue eye : loue hold Guil . Lord , sent Ham . tell ; shall anticipation preuent discouery secricie King Queene : moult feather , haue late , wherefore know , lost mirth , forgone custome exercise ; indeed , goes heauenly disposition ; goodly frame Earth , seemes sterrill Promontory ; excellent Canopy Ayre , look , braue ore - hanging , Maiesticall Roofe , fretted golden fire : , appeares thing mee , foule pestilent congregation vapours . piece worke man ! Noble Reason ? infinite faculty ? forme mouing expresse admirable ? Action , like Angel ? apprehension , like God ? beauty world , Parragon Animals ; yet , Quintessence Dust ? Man delights ; , Woman neither ; though smiling seeme say Rosin . Lord , stuffe thoughts Ham . laugh , said , Man delights ? Rosin . thinke , Lord , delight Man , Lenton entertainment Players shall receiue : wee coated way , hither comming offer Seruice Ham . playes King shall welcome ; Maiesty shall haue Tribute mee : aduenturous Knight shal vse Foyle Target : Louer shall sigh gratis , humorous man shall end part peace : Clowne shall make laugh whose lungs tickled ' th ' sere : Lady shall say minde freely ; blanke Verse shall halt ' : Players ? Rosin . Euen wont take delight Tragedians City Ham . chances trauaile ? residence reputation profit better wayes Rosin . thinke Inhibition comes meanes late Innouation ? Ham . Doe hold estimation City ? follow ' ? Rosin . indeed , Ham . comes ? doe grow rusty ? Rosin . Nay , indeauour keepes wonted pace ; Sir ayrie Children , little Yases , crye top question ; tyrannically clap ' ' : fashion , - ratled common Stages ( call ) many wearing Rapiers , affraide Goose - quils , dare scarse come thither Ham . Children ? maintains ' em ? escorted ? pursue Quality longer sing ? say afterwards grow themselues common Players ( like meanes better ) Writers wrong , make exclaim owne Succession Rosin . Faith ha ' bene much sides : Nation holds sinne , tarre Controuersie . , mony bid argument , vnlesse Poet Player went Cuffes Question Ham . ' possible ? Guild . Oh ha ' beene much throwing Braines Ham . Boyes carry away ? Rosin . Lord . Hercules & load Ham . strange : mine Vnckle King Denmarke , would make mowes Father liued ; giue twenty , forty , hundred Ducates peece , picture Little . something Naturall , Philosophie could finde . Flourish Players . Guil . Players Ham . Gentlemen , welcom Elsonower : hands , come : appurtenance Welcome , Fashion Ceremony . Let comply Garbe , lest extent Players ( tell must shew fairely outward ) appeare like entertainment . welcome : Vnckle Father , Aunt Mother deceiu ' Guil . deere Lord ? Ham . mad North , North - West : Winde Southerly , know Hawke Handsaw . Enter Polonius . Pol . Well Gentlemen Ham . Hearke Guildensterne , : eare hearer : great Baby see , yet swathing clouts Rosin . Happily ' second time come : say , old man twice childe Ham . Prophesie . Hee comes tell Players . Mark , say right Sir : Monday morning ' twas indeed Pol . Lord , haue Newes tell Ham . Lord , haue Newes tell . Rossius Actor Rome - Pol . Actors come hither Lord Ham . Buzze , buzze Pol . Vpon mine Honor Ham . Actor Asse - Polon . best Actors world , either Tragedie , Comedie , Historie , Pastorall : Pastoricall - Comicall - Historicall - Pastorall : Tragicall - Historicall : Tragicall - Comicall - Historicall - Pastorall : Scene indiuidible : Poem vnlimited . Seneca cannot heauy , Plautus light , law Writ , Liberty . onely men Ham . Iephta Iudge Israel , Treasure ' st thou ? Pol . Treasure , Lord ? Ham . one faire Daughter , , loued passing well Pol . Still Daughter Ham . ' th ' right old Iephta ? Polon . call Iephta Lord , haue daughter loue passing well Ham . Nay followes Polon . followes , Lord ? Ha . , lot , God wot : know , came passe , like : first rowe Pons Chanson shew . looke Abridgements come . Enter foure fiue Players . ' welcome Masters , welcome . glad see thee well : Welcome good Friends . Oh olde Friend ? Thy face valiant since saw thee last : Com ' st thou beard Denmarke ? , yong Lady Mistris ? Byrlady Ladiship neerer Heauen saw last , altitude Choppine . Pray God voice like peece vncurrant Gold crack ' within ring . Masters , welcome : wee ' l e ' ne ' like French Faulconers , flie thing see : wee ' l haue Speech straight . Come giue vs tast quality : come , passionate speech 1 . Play . speech , Lord ? Ham . heard thee speak speech , neuer Acted : , aboue , Play remember pleas ' Million , ' twas Cauiarie Generall : ( receiu ' , others , whose iudgement matters , cried top mine ) excellent Play ; well digested Scoenes , set downe much modestie , cunning . remember one said , Sallets lines , make matter sauory ; matter phrase , might indite Author affectation , cal ' honest method . One cheefe Speech , cheefely lou ' , ' twas Aeneas Tale Dido , thereabout especially , speaks Priams slaughter . liue memory , begin Line , let see , let see : rugged Pyrrhus like th ' Hyrcanian Beast . : begins Pyrrhus rugged Pyrrhus , whose Sable Armes Blacke purpose , night resemble lay couched Ominous Horse , Hath dread blacke Complexion smear ' Heraldry dismall : Head foote take Geulles , horridly Trick ' blood Fathers , Mothers , Daughters , Sonnes , Bak ' impasted parching streets , lend tyrannous , damned light vilde Murthers , roasted wrath fire , thus ' - sized coagulate gore , eyes like Carbuncles , hellish Pyrrhus Olde Grandsire Priam seekes Pol . Fore God , Lord , well spoken , good accent , good discretion 1 . Player . Anon findes , Striking short Greekes . anticke Sword , Rebellious Arme , lyes falles Repugnant command : vnequall match , Pyrrhus Priam driues , Rage strikes wide : whiffe winde fell Sword , Th ' vnnerued Father fals . senselesse Illium , Seeming feele blow , flaming top Stoopes Bace , hideous crash Takes Prisoner Pyrrhus eare . loe , Sword declining Milkie head Reuerend Priam , seem ' ' th ' Ayre sticke : painted Tyrant Pyrrhus stood , like Newtrall matter , nothing . often see storme , silence Heauens , Racke stand still , bold windes speechlesse , Orbe hush death : Anon dreadfull Thunder Doth rend Region . Pyrrhus pause , rowsed Vengeance sets new - worke , neuer Cyclops hammers fall Mars Armours , forg ' proofe Eterne , lesse remorse Pyrrhus bleeding sword falles Priam . , , thou Strumpet - Fortune , Gods , generall Synod take away power : Breake Spokes Fallies wheele , boule round Naue downe hill Heauen , low Fiends Pol . long Ham . shall ' th Barbars , beard . Prythee say : ' Iigge , tale Baudry , hee sleepes . Say ; come Hecuba 1 . Play . , , seen inobled Queen Ham . inobled Queene ? Pol . ' good : Inobled Queene good 1 . Play . Run bare - foot vp downe , Threatning flame Bisson Rheume : clout head , late Diadem stood , Robe lanke ore - teamed Loines , blanket th ' Alarum feare caught vp . seene , tongue Venome steep ' , ' Gainst Fortunes State , would Treason haue pronounc ' ? Gods themselues see , saw Pyrrhus make malicious sport mincing Sword Husbands limbes , instant Burst Clamour made ( Vnlesse things mortall moue ) Would haue made milche Burning eyes Heauen , passion Gods Pol . Looke ha ' turn ' colour , ha ' teares ' eyes . Pray Ham . ' Tis well , Ile haue thee speake rest , soone . Good Lord , see Players wel bestow ' . ye heare , let well vs ' : Abstracts breefe Chronicles time . death , better haue bad Epitaph , ill report liued Pol . Lord , vse according desart Ham . Gods bodykins man , better . Vse euerie man desart , scape whipping : vse Honor Dignity . lesse deserue , merit bountie . Take Pol . Come sirs . Exit Polon . Ham . Follow Friends : wee ' l heare play morrow . Dost thou heare old Friend , play murther Gonzago ? Play . Lord Ham . Wee ' l ha ' morrow night . could need study speech dosen sixteene lines , would set downe , insert ' ? Could ye ? Play . Lord Ham . well . Follow Lord , looke mock . good Friends , Ile leaue til night welcome Elsonower ? Rosin . Good Lord . Exeunt . Manet Hamlet . Ham . , God buy ' ye : alone . Oh Rogue Pesant slaue ? monstrous Player heere , Fixion , dreame Passion , Could force soule whole conceit , working , visage warm ' ; Teares eyes , distraction ' Aspect , broken voyce , whole Function suiting Formes , Conceit ? nothing ? Hecuba ? ' Hecuba , Hecuba , weepe ? would doe , Motiue Cue passion haue ? would drowne Stage teares , cleaue generall eare horrid speech : Make mad guilty , apale free , Confound ignorant , amaze indeed , faculty Eyes Eares . Yet , dull muddy - metled Rascall , peake Like Iohn - dreames , vnpregnant cause , say nothing : , King , Vpon whose property , deere life , damn ' defeate made . Coward ? calles Villaine ? breakes pate - crosse ? Pluckes Beard , blowes face ? Tweakes ' th ' Nose ? giues Lye ' th ' Throate , deepe Lungs ? ? Ha ? take : cannot , Pigeon - Liuer ' , lacke Gall make Oppression bitter , ere , haue fatted Region Kites Slaues Offall , bloudy : Bawdy villaine , Remorselesse , Treacherous , Letcherous , kindles villaine ! Oh Vengeance ! ? Asse ? sure , braue , , Sonne Deere murthered , Prompted Reuenge Heauen , Hell , Must ( like Whore ) vnpacke heart words , fall Cursing like Drab . Scullion ? Fye vpon ' : Foh . Braine . haue heard , guilty Creatures sitting Play , Haue cunning Scoene , Bene strooke soule , presently haue proclaim ' Malefactions . Murther , though haue tongue , speake myraculous Organ . Ile haue Players , Play something like murder Father , mine Vnkle . Ile obserue lookes , Ile rent quicke : blench know course . Spirit haue seene May Diuell , Diuel hath power ' assume pleasing shape , yea perhaps Weaknesse , Melancholly , potent Spirits , Abuses damne . Ile haue grounds Relatiue : Play ' thing , Wherein Ile catch Conscience King . Exit Enter King , Queene , Polonius , Ophelia , Rosincrance , Guildenstern , Lords . King . drift circumstance Get puts Confusion : Grating harshly dayes quiet turbulent dangerous Lunacy Rosin . confesse feeles himselfe distracted , cause meanes speake Guil . finde forward sounded , crafty Madnesse keepes aloofe : would bring Confession true state Qu . receiue well ? Rosin . like Gentleman Guild . much forcing disposition Rosin . Niggard question , demands free reply Qu . assay pastime ? Rosin . Madam , fell , certaine Players ore - wrought way : told , seeme kinde ioy heare : Court , ( thinke ) haue already order night play Pol . ' Tis true : beseech ' intreate Maiesties heare , see matter King . heart , doth much content heare inclin ' . Good Gentlemen , Giue edge , driue purpose delights Rosin . shall Lord . Exeunt . King . Sweet Gertrude leaue vs , haue closely sent Hamlet hither , , ' twere accident , may Affront Ophelia . Father , selfe ( lawful espials ) bestow selues , seeing vnseene may encounter frankely iudge , gather , behaued , ' th ' affliction loue , . thus suffers Qu . shall obey , part Ophelia , wish good Beauties happy cause Hamlets wildenesse : shall hope Vertues bring wonted way againe , Honors Ophe . Madam , wish may Pol . Ophelia , walke heere . Gracious please ye bestow selues : Reade booke , shew exercise may colour lonelinesse . oft blame , ' Tis much prou ' , Deuotions visage , pious Action , surge ' diuell himselfe King . Oh ' tis true : smart lash speech doth giue Conscience ? Harlots Cheeke beautied plaist ' ring Art vgly thing helpes , deede , painted word . Oh heauie burthen ! Pol . heare comming , let ' withdraw Lord . Exeunt . Enter Hamlet . Ham . , , Question : Whether ' tis Nobler minde suffer Slings Arrowes outragious Fortune , take Armes Sea troubles , opposing end : dye , sleepe ; sleepe , say end Heart - ake , thousand Naturall shockes Flesh heyre ? ' Tis consummation Deuoutly wish ' . dye sleepe , sleepe , perchance Dreame ; , ' rub , sleepe death , dreames may come , haue shuffel ' mortall coile , Must giue vs pawse . ' respect makes Calamity long life : would beare Whips Scornes time , Oppressors wrong , poore mans Contumely , pangs dispriz ' Loue , Lawes delay , insolence Office , Spurnes patient merit vnworthy takes , himselfe might Quietus make bare Bodkin ? would Fardles beare grunt sweat vnder weary life , dread something death , vndiscouered Countrey , whose Borne Traueller returnes , Puzels , makes vs rather beare illes haue , flye others know . Thus Conscience make Cowards vs , thus Natiue hew Resolution sicklied ' , pale cast Thought , enterprizes great pith moment , regard Currants turne away , loose name Action . Soft , faire Ophelia ? Nimph , thy Orizons sinnes remembred Ophe . Good Lord , Honor many day ? Ham . humbly thanke : well , well , well Ophe . Lord , haue Remembrances , haue longed long - deliuer . pray , receiue Ham . , , neuer gaue ought Ophe . honor ' Lord , know right well , words sweet breath compos ' , made things rich , perfume left : Take againe , Noble minde Rich gifts wax poore , giuers proue vnkinde . Lord Ham . Ha , ha : honest ? Ophe . Lord Ham . faire ? Ophe . meanes Lordship ? Ham . honest faire , Honesty admit discourse Beautie Ophe . Could Beautie Lord , haue better Comerce Honestie ? Ham . trulie : power Beautie , sooner transforme Honestie , Bawd , force Honestie translate Beautie likenesse . sometime Paradox , time giues proofe . loue Ophe . Indeed Lord , made beleeue Ham . haue beleeued . vertue cannot innocculate old stocke , shall rellish . loued Ophe . deceiued Ham . Get thee Nunnerie . would ' st thou breeder Sinners ? selfe indifferent honest , yet could accuse things , better Mother borne . prowd , reuengefull , Ambitious , offences becke , haue thoughts put imagination , giue shape , time acte . Fellowes , crawling betweene Heauen Earth . arrant Knaues , beleeue none vs . Goe thy wayes Nunnery . ' Father ? Ophe . home , Lord Ham . Let doores shut vpon , may play Foole way , ' owne house . Farewell Ophe . helpe , sweet Heauens Ham . thou doest Marry , Ile giue thee Plague thy Dowrie . thou chast Ice , pure Snow , thou shalt escape Calumny . Get thee Nunnery . Go , Farewell . thou wilt needs Marry , marry fool : Wise men know well enough , monsters make . Nunnery go , quickly . Farwell Ophe . heauenly Powers , restore Ham . haue heard pratlings wel enough . God giuen one pace , make selfe another : gidge , amble , lispe , nickname Gods creatures , make Wantonnesse , Ignorance . Go , Ile ' , hath made mad . say , haue Marriages . married already , one shall liue , rest shall keep . Nunnery , go . Exit Hamlet . Ophe . Noble minde heere ' - throwne ? Courtiers , Soldiers , Schollers : Eye , tongue , sword , Th ' expectansie Rose faire State , glasse Fashion , mould Forme , Th ' obseru ' Obseruers , quite , quite downe . Haue Ladies deiect wretched , suck ' Honie Musicke Vowes : see Noble , Soueraigne Reason , Like sweet Bels iangled tune , harsh , vnmatch ' Forme Feature blowne youth , Blasted extasie . Oh woe , ' haue seene haue seene : see see . Enter King , Polonius . King . Loue ? affections way tend , spake , though lack ' Forme little , like Madnesse . ' something soule ? ' Melancholly sits brood , doubt hatch , disclose danger , preuent haue quicke determination Thus set downe . shall speed England demand neglected Tribute : Haply Seas Countries different variable Obiects , shall expell something setled matter heart : Whereon Braines still beating , puts thus fashion himselfe . thinke ' ? Pol . shall well . yet beleeue Origin Commencement greefe Sprung neglected loue . Ophelia ? neede tell vs , Lord Hamlet saide , heard . Lord , please , hold fit Play , Let Queene Mother alone intreat shew Greefes : let round , Ile plac ' , please eare Conference . finde , England send : confine wisedome best shall thinke King . shall : Madnesse great Ones , must vnwatch ' go . Exeunt . Enter Hamlet , two three Players . Ham . Speake Speech pray , pronounc ' trippingly Tongue : mouth , many Players , liue Town - Cryer spoke Lines : saw Ayre much hand thus , vse gently ; verie Torrent , Tempest , ( say ) Whirle - winde Passion , must acquire beget Temperance may giue Smoothnesse . offends mee Soule , see robustious Pery - wig - pated Fellow , teare Passion tatters , verie ragges , split eares Groundlings : ( part ) capeable nothing , inexplicable dumbe shewes , & noise : could haue Fellow whipt ' - Termagant : outHerod ' Herod . Pray auoid Player . warrant Honor Ham . tame neyther : let owne Discretion Tutor . Sute Action Word , Word Action , speciall obseruance : ore - stop modestie Nature ; thing ouer - done , fro [ ] purpose Playing , whose end first , , hold ' twer Mirrour vp Nature ; shew Vertue owne Feature , Scorne owne Image , verie Age Bodie Time , forme pressure . , ouer - done , come tardie , though make vnskilfull laugh , cannot make Iudicious greeue ; censure One , must allowance ' reway whole Theater Others . Oh , bee Players haue seene Play , heard others praise , highly ( speake prophanely ) neyther hauing accent Christians , gate Christian , Pagan , Norman , haue strutted bellowed , haue thought Natures Iouerney - men made men , made well , imitated Humanity abhominably Play . hope haue reform ' indifferently vs , Sir Ham . reforme altogether . let play Clownes , speake set downe . , themselues laugh , set quantitie barren Spectators laugh , though meane time , necessary Question Play considered : ' Villanous , & shewes pittifull Ambition Foole vses . Go make readie . Exit Players . Enter Polonius , Rosincrance , Guildensterne . Lord , King heare peece Worke ? Pol . Queene , presently Ham . Bid Players make hast . Exit Polonius . two helpe hasten ? . Lord . Exeunt . Enter Horatio . Ham . hoa , Horatio ? Hora . Heere sweet Lord , Seruice Ham . Horatio , thou art eene iust man ere Conuersation coap ' withall Hora . deere Lord Ham . Nay , thinke flatter : aduancement may hope thee , Reuennew hast , thy good spirits feed & cloath thee . shold poor flatter ' ? , let Candied tongue , like absurd pompe , crooke pregnant Hindges knee , thrift may follow faining ? Dost thou heare , Since deere Soule Mistris choyse , could men distinguish , election Hath seal ' thee selfe . thou hast bene one suffering , suffers nothing . man Fortunes buffets , Rewards Hath ' tane equall Thankes . blest , Whose Blood Iudgement well co - mingled , Pipe Fortunes finger . sound stop please . Giue man , Passions Slaue , weare hearts Core . , Heart heart , thee . Something much . Play night King . One Scoene comes neere Circumstance haue told thee , Fathers death . prythee , thou see ' st Acte - foot , Euen verie Comment Soule Obserue mine Vnkle : occulted guilt , selfe vnkennell one speech , damned Ghost haue seene : Imaginations foule Vulcans Stythe . Giue needfull note , mine eyes riuet Face : iudgements ioyne , censure seeming Hora . Well Lord . steale ought whil ' st Play Playing , scape detecting , pay Theft . Enter King , Queene , Polonius , Ophelia , Rosincrance , Guildensterne , Lords attendant Guard carrying Torches . Danish March . Sound Flourish . Ham . comming Play : must idle . Get place King . fares Cosin Hamlet ? Ham . Excellent Ifaith , Camelions dish : eate Ayre promise - cramm ' , cannot feed Capons King . haue nothing answer Hamlet , words mine Ham . , mine . Lord , plaid ' th ' Vniuersity , say ? Polon . Lord , accounted good Actor Ham . enact ? Pol . enact Iulius Caesar , kill ' ' th ' Capitol : Brutus kill ' Ham . bruite part , kill Capitall Calfe . Players ready ? Rosin . Lord , stay vpon patience Qu . Come hither good Hamlet , sit Ha . good Mother , ' Mettle attractiue Pol . Oh ho , marke ? Ham . Ladie , shall lye Lap ? Ophe . Lord Ham . meane , Head vpon Lap ? Ophe . Lord Ham . thinke meant Country matters ? Ophe . thinke nothing , Lord Ham . ' faire thought ly betweene Maids legs Ophe . Lord ? Ham . Nothing Ophe . merrie , Lord ? Ham . ? Ophe . Lord Ham . Oh God , onely Iigge - maker : man , merrie . looke cheerefully Mother lookes , Father dyed within ' two Houres Ophe . Nay , ' tis twice two moneths , Lord Ham . long ? Nay let Diuel weare blacke , Ile haue suite Sables . Oh Heauens ! dye two moneths ago , forgotten yet ? ' hope , great mans Memorie , may - liue life halfe yeare : byrlady must builde Churches : else shall suffer thinking , Hoby - horsse , whose Epitaph , , , Hoby - horse forgot . Hoboyes play . dumbe shew enters . Enter King Queene , louingly ; Queene embracing . kneeles , makes shew Protestation vnto . takes vp , declines head vpon neck . Layes downe vpon Banke Flowers . seeing - sleepe , leaues . Anon comes Fellow , takes Crowne , kisses , powres poyson Kings eares , Exits . Queene returnes , findes King dead , makes passionate Action . Poysoner , two three Mutes comes againe , seeming lament . dead body carried away : Poysoner Wooes Queene Gifts , seemes loath vnwilling awhile , end , accepts loue . Exeunt . Ophe . meanes , Lord ? Ham . Marry Miching Malicho , meanes Mischeefe Ophe . Belike shew imports Argument Play ? Ham . shall know Fellowes : Players cannot keepe counsell , ' l tell Ophe . tell vs shew meant ? Ham . , shew ' l shew . Bee asham ' shew , hee ' l shame tell meanes Ophe . naught , naught , Ile marke Play . Enter Prologue . vs , Tragedie , Heere stooping Clemencie : begge hearing Patientlie Ham . Prologue , Poesie Ring ? Ophe . ' Tis briefe Lord Ham . Womans loue . Enter King Queene . King . Full thirtie times hath Phoebus Cart gon round , Neptunes salt Wash , Tellus Orbed ground : thirtie dozen Moones borrowed sheene , World haue times twelue thirties beene , Since loue hearts , Hymen hands Vnite comutuall , sacred Bands Bap . many iournies may Sunne Moone Make vs againe count ' , ere loue done . woe , sicke late , farre cheere , former state , distrust : yet though distrust , Discomfort ( Lord ) nothing must : womens Feare Loue , holds quantitie , neither ought , extremity : loue , proofe hath made know , Loue siz ' , Feare King . Faith must leaue thee Loue , shortly : operant Powers Functions leaue : thou shalt liue faire world behinde , Honour ' , belou ' , haply , one kinde . Husband shalt thou - Bap . Oh confound rest : Loue , must needs Treason brest : second Husband , let accurst , None wed second , kill ' first Ham . Wormwood , Wormwood Bapt . instances second Marriage moue , base respects Thrift , none Loue . second time , kill Husband dead , second Husband kisses Bed King . beleeue . Think speak : determine , oft breake : Purpose slaue Memorie , violent Birth , poore validitie : like Fruite vnripe stickes Tree , fall vnshaken , mellow bee . necessary ' tis , forget pay selues , selues debt : selues passion propose , passion ending , doth purpose lose . violence Greefe Ioy , owne ennactors themselues destroy : Ioy Reuels , Greefe doth lament ; Greefe ioyes , Ioy greeues slender accident . world aye , ' tis strange euen Loues Fortunes change . ' tis question left vs yet proue , Whether Loue lead Fortune , else Fortune Loue . great man downe , marke fauourites flies , poore aduanc ' , makes Friends Enemies : hitherto doth Loue Fortune tend , needs , shall neuer lacke Frend : want hollow Friend doth try , Directly seasons Enemie . orderly end , begun , Willes Fates contrary run , Deuices still ouerthrowne , thoughts , ends none owne . thinke thou wilt second Husband wed . die thy thoughts , thy first Lord dead Bap . Earth giue food , Heauen light , Sport repose locke day night : opposite blankes face ioy , Meet would haue well , destroy : heere , hence , pursue lasting strife , Widdow , euer Wife Ham . breake King . ' Tis deepely sworne : Sweet , leaue heere , spirits grow dull , faine would beguile tedious day sleepe Qu . Sleepe rocke thy Braine , Sleepes neuer come mischance betweene vs twaine . Exit Ham . Madam , like Play ? Qu . Lady protests much thinkes Ham . Oh shee ' l keepe word King . Haue heard Argument , Offence ' ? Ham . , , iest , poyson iest , Offence ' th ' world King . call Play ? Ham . Mouse - trap : Marry ? Tropically : Play Image murder done Vienna : Gonzago Dukes name , wife Baptista : shall see anon : ' tis knauish peece worke : ' ? Maiestie , wee haue free soules , touches vs : let gall ' iade winch : withers vnrung . Enter Lucianus . one Lucianus nephew King Ophe . good Chorus , Lord Ham . could interpret betweene loue : could see Puppets dallying Ophe . keene Lord , keene Ham . would cost groaning , take edge Ophe . Still better worse Ham . mistake Husbands . Begin Murderer . Pox , leaue thy damnable Faces , begin . Come , croaking Rauen doth bellow Reuenge Lucian . Thoughts blacke , hands apt , Drugges fit , Time agreeing : Confederate season , else , Creature seeing : Thou mixture ranke , Midnight Weeds collected , Hecats Ban , thrice blasted , thrice infected , Thy naturall Magicke , dire propertie , wholsome life , vsurpe immediately . Powres poyson eares . Ham . poysons ' th ' Garden ' estate : name ' Gonzago : Story extant writ choyce Italian . shall see anon Murtherer gets loue Gonzago ' wife Ophe . King rises Ham . , frighted false fire Qu . fares Lord ? Pol . Giue ' Play King . Giue Light . Away . Lights , Lights , Lights . Exeunt . Manet Hamlet & Horatio . Ham . let strucken Deere go weepe , Hart vngalled play : must watch , must sleepe ; runnes world away . Would Sir , Forrest Feathers , rest Fortunes turne Turke ; two Prouinciall Roses rac ' Shooes , get Fellowship crie Players sir Hor . Halfe share Ham . whole one , thou dost know : Oh Damon deere , Realme dismantled Ioue himselfe , reignes heere . verie verie Paiocke Hora . might haue Rim ' Ham . Oh good Horatio , Ile take Ghosts word thousand pound . ' st perceiue ? Hora . Verie well Lord Ham . Vpon talke poysoning ? Hora . verie well note . Enter Rosincrance Guildensterne . Ham . Oh , ha ? Come Musick . Come Recorders : King like Comedie , belike likes perdie . Come Musicke Guild . Good Lord , vouchsafe word Ham . Sir , whole History Guild . King , sir Ham . sir , ? Guild . retyrement , maruellous distemper ' Ham . drinke Sir ? Guild . Lord , rather choller Ham . wisedome shew selfe richer , signifie Doctor : put Purgation , would perhaps plundge farre Choller Guild . Good Lord put discourse frame , start wildely affayre Ham . tame Sir , pronounce Guild . Queene Mother , great affliction spirit , hath sent Ham . welcome Guild . Nay , good Lord , courtesie right breed . shall please make wholsome answer , doe Mothers command ' ment : , pardon , returne shall bee end Businesse Ham . Sir , cannot Guild . , Lord ? Ham . Make wholsome answere : wits diseas ' . sir , answers make , shal command : rather say , Mother : therfore matter . Mother say Rosin . thus sayes : behauior hath stroke amazement , admiration Ham . Oh wonderfull Sonne , astonish Mother . sequell heeles Mothers admiration ? Rosin . desires speake Closset , ere go bed Ham . shall obey , ten times Mother . Haue Trade vs ? Rosin . Lord , loue Ham . still , pickers stealers Rosin . Good Lord , cause distemper ? freely barre doore owne Libertie , deny greefes Friend Ham . Sir lacke Aduancement Rosin . , haue voyce King himselfe , Succession Denmarke ? Ham . , grasse growes , Prouerbe something musty . Enter one Recorder . Recorder . Let see , withdraw , go recouer winde mee , would driue toyle ? Guild . Lord , Dutie bold , loue vnmannerly Ham . well vnderstand . play vpon Pipe ? Guild . Lord , cannot Ham . pray Guild . Beleeue , cannot Ham . beseech Guild . know touch , Lord Ham . ' Tis easie lying : gouerne Ventiges finger thumbe , giue breath mouth , discourse excellent Musicke . Looke , stoppes Guild . cannot command vtterance hermony , haue skill Ham . looke , vnworthy thing make : would play vpon mee ; would seeme know stops : would pluck heart Mysterie ; would sound mee lowest Note , top Compasse : much Musicke , excellent Voice , little Organe , yet cannot make . thinke , easier bee plaid , Pipe ? Call Instrument , though fret , cannot play vpon . God blesse Sir . Enter Polonius . Polon . Lord ; Queene would speak , presently Ham . see Clowd ? ' almost shape like Camell Polon . ' th ' Masse , ' like Camell indeed Ham . thinkes like Weazell Polon . back ' like Weazell Ham . like Whale ? Polon . Verie like Whale Ham . come Mother , : foole top bent . come Polon . say . Enter . Ham . , easily said . Leaue Friends : ' Tis verie witching time night , Churchyards yawne , Hell selfe breaths Contagion world . could drink hot blood , bitter businesse day Would quake looke . Soft , Mother : Oh Heart , loose thy Nature ; let euer Soule Nero , enter firme bosome : Let cruell , vnnaturall , speake Daggers , vse none : Tongue Soule Hypocrites . words someuer shent , giue Seales , neuer Soule consent . Enter King , Rosincrance , Guildensterne . King . like , stands safe vs , let madnesse range . Therefore prepare , Commission forthwith dispatch , England shall along : termes estate , may endure Hazard dangerous doth hourely grow Lunacies Guild . selues prouide : holie Religious feare keepe many many bodies safe liue feede vpon Maiestie Rosin . single peculiar life bound strength Armour minde , keepe selfe noyance : much , Spirit , vpon whose spirit depends rests liues many , cease Maiestie Dies alone ; like Gulfe doth draw ' neere , . massie wheele Fixt Somnet highest Mount . whose huge Spoakes , ten thousand lesser things mortiz ' adioyn ' : falles , small annexment , pettie consequence Attends boystrous Ruine . Neuer alone King sighe , generall grone King . Arme , pray speedie Voyage ; Fetters put vpon feare , goes free - footed . haste vs . Exeunt . Gent . Enter Polonius . Pol . Lord , ' going Mothers Closset : Behinde Arras Ile conuey selfe heare Processe . Ile warrant shee ' l tax home , said , wisely said , ' Tis meete audience Mother , Since Nature makes partiall , ' - heare speech vantage . Fare well Liege , Ile call vpon ere go bed , tell know King . Thankes deere Lord . Oh offence ranke , smels heauen , hath primall eldest curse vpon ' , Brothers murther . Pray , Though inclination sharpe : stronger guilt , defeats strong intent , like man double businesse bound , stand pause shall first begin , neglect ; cursed hand thicker selfe Brothers blood , Raine enough sweet Heauens wash white Snow ? Whereto serues mercy , confront visage Offence ? ' Prayer , two - fold force , fore - stalled ere come fall , pardon ' downe ? Ile looke vp , fault past . oh , forme Prayer serue turne ? Forgiue foule Murther : cannot , since still possest effects Murther . Crowne , mine owne Ambition , Queene : May one pardon ' , retaine th ' offence ? corrupted currants world , Offences gilded hand may shoue Iustice , oft ' tis seene , wicked prize selfe Buyes Law ; ' tis aboue , shuffling , Action lyes true Nature , selues compell ' Euen teeth forehead faults , giue euidence . ? rests ? Try Repentance . ? Yet , one cannot repent ? Oh wretched state ! Oh bosome , blacke death ! Oh limed soule , strugling free , Art ingag ' : Helpe Angels , make assay : Bow stubborne knees , heart strings Steele , soft sinewes new - borne Babe , may well . Enter Hamlet . Ham . might pat , praying , Ile doo ' , goes Heauen , reueng ' : would scann ' , Villaine killes Father , foule Sonne , Villaine send heauen . Oh hyre Sallery , Reuenge . tooke Father grossely , full bread , Crimes broad blowne , fresh May , Audit stands , knowes , saue Heauen : circumstance course thought ' Tis heauie : reueng ' , take purging Soule , fit season ' passage ? . Vp Sword , know thou horrid hent drunke asleepe : Rage , th ' incestuous pleasure bed , gaming , swearing , acte ha ' rellish Saluation ' , trip , heeles may kicke Heauen , Soule may damn ' blacke Hell , whereto goes . Mother stayes , Physicke prolongs thy sickly dayes . Enter . King . words flye vp , thoughts remain , Words without thoughts , neuer Heauen go . Enter . Enter Queene Polonius . Pol . come straight : Looke lay home , Tell prankes haue broad beare , Grace hath screen ' , stoode betweene Much heate , . Ile silence e ' ene heere : Pray round Ham . within . Mother , mother , mother Qu . Ile warrant , feare . Withdraw , heare coming . Enter Hamlet . Ham . Mother , ' matter ? Qu . Hamlet , thou hast thy Father much offended Ham . Mother , haue Father much offended Qu . Come , come , answer idle tongue Ham . Go , go , question idle tongue Qu . Hamlet ? Ham . Whats matter ? Qu . Haue forgot ? Ham . Rood , : Queene , Husbands Brothers wife , would . Mother Qu . Nay , Ile set speake Ham . Come , come , sit downe , shall boudge : go till set vp glasse , may see inmost part ? Qu . wilt thou ? thou wilt murther ? Helpe , helpe , hoa Pol . hoa , helpe , helpe , helpe Ham . , Rat ? dead Ducate , dead Pol . Oh slaine . Killes Polonius Qu . Oh , hast thou done ? Ham . Nay know , King ? Qu . Oh rash , bloody deed ? Ham . bloody deed , almost bad good Mother , kill King , marrie Brother Qu . kill King ? Ham . Lady , ' twas word . Thou wretched , rash , intruding foole farewell , tooke thee thy Betters , take thy Fortune , Thou find ' st busie , danger . Leaue wringing hands , peace , sit downe , let wring heart , shall made penetrable stuffe ; damned Custome haue braz ' , proofe bulwarke Sense Qu . haue done , thou dar ' st wag thy tong , noise rude ? Ham . Act blurres grace blush Modestie , Cals Vertue Hypocrite , takes Rose faire forehead innocent loue , makes blister . Makes marriage vowes false Dicers Oathes . Oh deed , body Contraction pluckes soule , sweete Religion makes rapsidie words . Heauens face doth glow , Yea solidity compound masse , tristfull visage doome , thought - sicke act Qu . Aye ; act , roares lowd , & thunders Index Ham . Looke heere vpon Picture , , counterfet presentment two Brothers : See grace seated Brow , Hyperions curles , front Ioue himselfe , eye like Mars , threaten command Station , like Herald Mercurie New lighted heauen - kissing hill : Combination , forme indeed , euery God seeme set Seale , giue world assurance man . Husband . Looke followes . Heere Husband , like Mildew ' eare Blasting wholsom breath . Haue eyes ? Could faire Mountaine leaue feed , batten Moore ? Ha ? Haue eyes ? cannot call Loue : age , hey - day blood tame , ' humble , waites vpon Iudgement : Iudgement Would step , ? diuell ' , thus hath cousend hoodman - blinde ? Shame ! thy Blush ? Rebellious Hell , thou canst mutine Matrons bones , flaming youth , let Vertue waxe . melt owne fire . Proclaime shame , compulsiue Ardure giues charge , Since Frost selfe , actiuely doth burne , Reason panders Qu . Hamlet , speake . Thou turn ' st mine eyes soule , see blacke grained spots , leaue Tinct Ham . Nay , liue ranke sweat enseamed bed , Stew ' Corruption ; honying making loue Ouer nasty Stye Qu . Oh speake , , words like Daggers enter mine eares . sweet Hamlet Ham . Murderer , Villaine : Slaue , twentieth part tythe precedent Lord . vice Kings , Cutpurse Empire Rule . shelfe , precious Diadem stole , put Pocket Qu . . Enter Ghost . Ham . King shreds patches . Saue ; houer ' wings heauenly Guards . would gracious figure ? Qu . Alas ' mad Ham . come tardy Sonne chide , laps ' Time Passion , lets go Th ' important acting dread command ? Oh say Ghost . forget : Visitation whet thy almost blunted purpose . looke , Amazement thy Mother sits ; step betweene , fighting Soule , Conceit weakest bodies , strongest workes . Speake Hamlet Ham . Lady ? Qu . Alas , ' ? bend eye vacancie , corporall ayre hold discourse . Forth eyes , spirits wildely peepe , sleeping Soldiours th ' Alarme , bedded haire , like life excrements , Start vp , stand end . Oh gentle Sonne , Vpon heate flame thy distemper Sprinkle coole patience . Whereon looke ? Ham . , : look pale glares , forme cause conioyn ' , preaching stones , Would make capeable . looke vpon , Least pitteous action conuert sterne effects : haue , want true colour ; teares perchance blood Qu . speake ? Ham . see nothing ? Qu . Nothing , yet see Ham . nothing heare ? Qu . , nothing selues Ham . look : looke steals away : Father habite , liued , Looke goes euen Portall . Enter . Qu . coynage Braine , bodilesse Creation extasie cunning Ham . Extasie ? Pulse doth temperately keepe time , makes healthfull Musicke . madnesse haue vttered ; bring Test matter - word : madnesse Would gamboll . Mother , loue Grace , Lay flattering Vnction soule , trespasse , madnesse speakes : skin filme Vlcerous place , Whil ' st ranke Corruption mining within , Infects vnseene . Confesse selfe Heauen , Repent ' past , auoyd come , spred Compost Weedes , make ranke . Forgiue Vertue , fatnesse pursie times , Vertue selfe , Vice must pardon begge , Yea courb , woe , leaue good Qu . Oh Hamlet , Thou hast cleft heart twaine Ham . throw away worser part , liue purer halfe . Good night , go mine Vnkles bed , Assume Vertue , haue , refraine night , shall lend kinde easinesse next abstinence . goodnight , desirous blest , Ile blessing begge . Lord , repent : heauen hath pleas ' , punish , , must Scourge Minister . bestow , answer well death gaue : againe , good night . must cruell , onely kinde ; Thus bad begins worse remaines behinde Qu . shall ? Ham . meanes bid : Let blunt King tempt againe bed , Pinch Wanton cheeke , call Mouse , let paire reechie kisses , padling necke damn ' Fingers , Make rauell matter , essentially madnesse , made craft . ' Twere good let know , ' Queene , faire , sober , wise , Would Paddocke , Bat , Gibbe , deere concernings hide , would , despight Sense Secrecie , Vnpegge Basket houses top : Let Birds flye , like famous Ape try Conclusions Basket , creepe breake owne necke downe Qu . thou assur ' , words made breath , breath life : haue life breath thou hast saide Ham . must England , know ? Qu . Alacke forgot : ' Tis concluded Ham . man shall set packing : Ile lugge Guts Neighbor roome , Mother goodnight . Indeede Counsellor still , secret , graue , life , foolish prating Knaue . Come sir , draw toward end . Good night Mother . Exit Hamlet tugging Polonius . Enter King . King . ' matters sighes . profound heaues must translate ; Tis fit vnderstand . Sonne ? Qu . Ah good Lord , haue seene night ? King . Gertrude ? ' Hamlet ? Qu . Mad Seas , winde , contend Mightier , lawlesse fit Behinde Arras , hearing something stirre , whips Rapier , cries Rat , Rat , brainish apprehension killes vnseene good old man King . Oh heauy deed : bin vs beene : Liberty full threats , selfe , vs , euery one . Alas , shall bloody deede answered ? laide vs , whose prouidence haue kept short , restrain ' , haunt , mad yong man . much loue , would vnderstand fit , like Owner foule disease , keepe divulging , let ' feede Euen pith life . gone ? Qu . draw apart body hath kild , ' madnesse like Oare Among Minerall Mettels base Shewes selfe pure . weepes done King . Oh Gertrude , come away : Sun sooner shall Mountaines touch , ship hence , vilde deed , must Maiesty Skill countenance , excuse . Enter Ros . & Guild . Ho Guildenstern : Friends go ioyne ayde : Hamlet madnesse hath Polonius slaine , Mother Clossets hath drag ' . Go seeke , speake faire , bring body Chappell . pray hast . Exit Gent . Come Gertrude , wee ' l call vp wisest friends , let know meane , ' vntimely done . Oh come away , soule full discord dismay . Exeunt . Enter Hamlet . Ham . Safely stowed Gentlemen within . Hamlet , Lord Hamlet Ham . noise ? cals Hamlet ? Oh heere come . Enter Ros . Guildensterne . Ro . haue done Lord dead body ? Ham . Compounded dust , whereto ' tis Kinne Rosin . Tell vs ' tis , may take thence , beare Chappell Ham . beleeue Rosin . Beleeue ? Ham . keepe counsell , mine owne . Besides , demanded Spundge , replication made Sonne King Rosin . Take Spundge , Lord ? Ham . sir , sokes vp Kings Countenance , Rewards , Authorities ( Officers King best seruice end . keepes like Ape corner iaw , first mouth ' last swallowed , needes haue glean ' , squeezing , Spundge shall dry againe Rosin . vnderstand Lord Ham . glad : knauish speech sleepes foolish eare Rosin . Lord , must tell vs body , go vs King Ham . body King , King body . King , thing - Guild . thing Lord ? Ham . nothing : bring , hide Fox , . Exeunt . Enter King . King . haue sent seeke , find bodie : dangerous man goes loose : Yet must put strong Law : Hee ' loued distracted multitude , like iudgement , eyes : ' tis , th ' Offenders scourge weigh ' neerer offence : beare smooth , euen , sodaine sending away , must seeme Deliberate pause , diseases desperate growne , desperate appliance releeued , . Enter Rosincrane . ? hath befalne ? Rosin . dead body bestow ' Lord , cannot get King . ? Rosin . Without Lord , guarded know pleasure King . Bring vs Rosin . Hoa , Guildensterne ? Bring Lord . Enter Hamlet Guildensterne . King . Hamlet , ' Polonius ? Ham . Supper King . Supper ? ? Ham . eats , eaten , certaine conuocation wormes e ' ne . worm onely Emperor diet . fat creatures else fat vs , fat selfe Magots . fat King , leane Begger variable seruice dishes , one Table ' end King . dost thou meane ? Ham . Nothing shew King may go Progresse guts Begger King . Polonius Ham . heauen , send thither see . Messenger finde , seeke ' th place selfe : indeed , finde moneth , shall nose go vp staires Lobby King . Go seeke Ham . stay till ye come K . Hamlet , deed thine , thine especial safety tender , deerely greeue thou hast done , must send thee hence fierie Quicknesse . Therefore prepare thy selfe , Barke readie , winde helpe , Th ' Associates tend , euery thing bent England Ham . England ? King . Hamlet Ham . Good King . , thou knew ' st purposes Ham . see Cherube see ' : come , England . Farewell deere Mother King . Thy louing Father Hamlet Hamlet . Mother : Father Mother man wife : man & wife one flesh , mother . Come , England . Exit King . Follow foote , Tempt speed aboord : Delay , Ile haue hence night . Away , euery thing Seal ' done else leanes th ' Affaire , pray make hast . England , loue thou holdst ought , great power thereof may giue thee sense , Since yet thy Cicatrice lookes raw red Danish Sword , thy free awe Payes homage vs ; thou maist coldly set Soueraigne Processe , imports full Letters coniuring effect present death Hamlet . England , like Hecticke blood rages , thou must cure : Till know ' tis done , ere happes , ioyes ne ' begun . Exit Enter Fortinbras Armie . . Go Captaine , greet Danish King , Tell license , Fortinbras Claimes conueyance promis ' March Ouer Kingdome . know Rendeuous : Maiesty would ought vs , shall expresse dutie eye , let know Cap . doo ' , Lord . Go safely . Enter . Enter Queene Horatio . Qu . speake Hor . importunate , indeed distract , moode needs pittied Qu . would haue ? Hor . speakes much Father ; saies heares ' trickes ' th ' world , hems , beats heart , Spurnes enuiously Strawes , speakes things doubt , carry halfe sense : speech nothing , Yet vnshaped vse doth moue hearers Collection ; ayme , botch words vp fit owne thoughts , winkes , nods , gestures yeeld , Indeed would make one thinke would thought , Though nothing sure , yet much vnhappily Qu . ' Twere good spoken , may strew dangerous coniectures ill breeding minds . Let come . sicke soule ( sinnes true Nature ) toy seemes Prologue , great amisse , full Artlesse iealousie guilt , spill ' selfe , fearing spilt . Enter Ophelia distracted . Ophe . beauteous Maiesty Denmark Qu . Ophelia ? Ophe . true loue know another one ? Cockle hat staffe , Sandal shoone Qu . Alas sweet Lady : imports Song ? Ophe . Say ? Nay pray marke . dead gone Lady , dead gone , head grasse - greene Turfe , heeles stone . Enter King . Qu . Nay Ophelia Ophe . Pray marke . White Shrow ' Mountaine Snow Qu . Alas , looke heere Lord Ophe . Larded sweet Flowers : bewept graue go , true - loue showres King . ye , pretty Lady ? Ophe . Well , God dil ' . say Owle Bakers daughter . Lord , wee know , know may . God Table King . Conceit vpon Father Ophe . Pray let ' haue words : aske meanes , say : morrow [ aint ]. Valentines day , morning betime , Maid Window , Valentine . vp rose , & ' clothes , & dupt chamber dore , Let Maid , Maid , neuer departed King . Pretty Ophelia Ophe . Indeed la ? without oath Ile make end ont . gis , [ aint ]. Charity , Alacke , fie shame : Yong men wil doo ' , come ' , Cocke blame . Quoth tumbled , promis ' Wed : would ha done yonder Sunne , thou hadst come bed King . long hath bin thus ? Ophe . hope well . must bee patient , cannot choose weepe , thinke lay ' th ' cold ground : brother shall knowe , thanke good counsell . Come , Coach : Goodnight Ladies : Goodnight sweet Ladies : Goodnight , goodnight . Enter . King . Follow close , Giue good watch pray : Oh poyson deepe greefe , springs Fathers death . Oh Gertrude , Gertrude , sorrowes comes , come single spies , Battalians . First , Father slaine , Next Sonne gone , violent Author owne iust remoue : people muddied , Thicke vnwholsome thoughts , whispers good Polonius death ; haue done greenly hugger mugger interre . Poore Ophelia Diuided selfe , faire Iudgement , Without Pictures , meere Beasts . Last , much containing , Brother secret come France , Keepes wonder , keepes himselfe clouds , wants Buzzers infect eare pestilent Speeches Fathers death , necessitie matter Beggard , nothing sticke persons Arraigne eare eare . deere Gertrude , , Like murdering Peece many places , Giues superfluous death . Noise within . Enter Messenger . Qu . Alacke , noyse ? King . Switzers ? Let guard doore . matter ? Mes . Saue selfe , Lord . Ocean ( ouer - peering List ) Eates Flats impittious haste young Laertes , Riotous head , Ore - beares Officers , rabble call Lord , world begin , Antiquity forgot , Custome knowne , Ratifiers props euery word , cry choose ? Laertes shall King , Caps , hands , tongues , applaud clouds , Laertes shall King , Laertes King Qu . cheerefully false Traile cry , Oh Counter false Danish Dogges . Noise within . Enter Laertes . King . doores broke Laer . King , sirs ? Stand without . , let ' come Laer . pray giue leaue Al . , Laer . thanke : Keepe doore . Oh thou vilde King , giue Father Qu . Calmely good Laertes Laer . drop blood , calmes Proclaimes Bastard : Cries Cuckold Father , brands Harlot Euen heere betweene chaste vnsmirched brow true Mother King . cause Laertes , thy Rebellion lookes Gyant - like ? Let go Gertrude : feare person : ' Diuinity doth hedge King , Treason peepe would , Acts little . Tell Laertes , thou art thus Incenst ? Let go Gertrude . Speake man Laer . ' Father ? King . Dead Qu . King . Let demand fill Laer . came dead ? Ile Iuggel ' . hell Allegeance : Vowes , blackest diuell . Conscience Grace , profoundest Pit . dare Damnation : point stand , worlds giue negligence , Let come comes : onely Ile reueng ' throughly Father King . shall stay ? Laer . , world , meanes , Ile husband well , shall go farre little King . Good Laertes : desire know certaintie deere Fathers death , writ reuenge , Soop - stake draw Friend Foe , Winner Looser Laer . None Enemies King . know La . good Friends , thus wide Ile ope Armes : like kinde Life - rend ' ring Politician , Repast blood King . speake Like good Childe , true Gentleman . guiltlesse Fathers death , sensible greefe , shall leuell Iudgement pierce day ' eye . noise within . Let come . Enter Ophelia . Laer . ? noise ? Oh heate drie vp Braines , teares seuen times salt , Burne Sence Vertue mine eye . Heauen , thy madnesse shall payed waight , Till Scale turnes beame . Oh Rose May , Deere Maid , kinde Sister , sweet Ophelia : Oh Heauens , ' possible , yong Maids wits , mortall old mans life ? Nature fine Loue , ' tis fine , sends precious instance selfe thing loues Ophe . bore bare fac ' Beer , Hey non nony , nony , hey nony : graue raines many teare , Fare well Doue Laer . ' st thou thy wits , ' st perswade Reuenge , could moue thus Ophe . must sing downe - downe , call - downe - . Oh , wheele becomes ? false Steward stole masters daughter Laer . nothings matter Ophe . ' Rosemary , ' Remembraunce . Pray loue remember : Paconcies , ' Thoughts Laer . document madnesse , thoughts & remembrance fitted Ophe . ' Fennell , Columbines : ther ' Rew , heere ' . Wee may call Herbe - Grace Sundaies : Oh must weare Rew difference . ' Daysie , would giue Violets , wither ' Father dyed : say , made good end ; bonny sweet Robin ioy Laer . Thought , Affliction , Passion , Hell selfe : turnes Fauour , prettinesse Ophe . come againe , come againe : , , dead , go thy Death - bed , neuer wil come againe . Beard white Snow , Flaxen Pole : gone , gone , cast away mone , Gramercy Soule . Christian Soules , pray God . God buy ye . Exeunt . Ophelia Laer . see , Gods ? King . Laertes , must common greefe , deny right : go apart , Make choice wisest Friends , shall heare iudge ' twixt ; direct Colaterall hand finde vs touch ' , Kingdome giue , Crowne , Life , call satisfaction . , content lend patience vs , shall ioyntly labour soule giue due content Laer . Let : meanes death , obscure buriall ; Trophee , Sword , Hatchment ' bones , Noble rite , formall ostentation , Cry heard , ' twere Heauen Earth , must call question King . shall : th ' offence , let great Axe fall . pray go . Exeunt . Enter Horatio , Attendant . Hora . would speake ? Ser . Saylors sir , say haue Letters Hor . Let come , know part world greeted , Lord Hamlet . Enter Saylor . Say . God blesse Sir Hor . Let blesse thee Say . Hee shall Sir , ' please . ' Letter Sir : comes th ' Ambassadours bound England , name Horatio , let know . Reads Letter . Horatio , thou shalt haue ouerlook ' , giue Fellowes meanes King : haue Letters . Ere two dayes old Sea , Pyrate Warlicke appointment gaue vs Chace . Finding selues slow Saile , put compelled Valour . Grapple , boorded : instant got cleare Shippe , alone became Prisoner . haue dealt mee , like Theeues Mercy , knew . doe good turne . Let King haue Letters haue sent , repaire thou much hast thou wouldest flye death . haue words speake eare , make thee dumbe , yet much light bore Matter . good Fellowes bring thee . Rosincrance Guildensterne , hold course England . haue much tell thee , Farewell . thou knowest thine , Hamlet . Come , giue way Letters , ' speedier , may direct brought . Enter . Enter King Laertes . King . must conscience acquittance seal , must put heart Friend , Sith haue heard , knowing eare , hath Noble Father slaine , Pursued life Laer . well appeares . tell , proceeded feates , crimefull , Capitall Nature , Safety , Wisedome , things else , mainly stirr ' vp ? King . two speciall Reasons , may ( perhaps ) seeme much vnsinnowed , yet strong . Queen Mother , Liues almost lookes : selfe , Vertue Plague , either , ' coniunctiue life , soule ; Starre moues Sphere , could . Motiue , publike count might go , great loue generall gender beare , dipping Faults affection , Would like Spring turneth Wood Stone , Conuert Gyues Graces . Arrowes slightly timbred loud Winde , Would haue reuerted Bow againe , arm ' Laer . haue Noble Father lost , Sister driuen desperate tearmes , ( praises may go backe againe ) Stood Challenger mount Age perfections . reuenge come King . Breake sleepes , must thinke made stuffe , flat , dull , let Beard shooke danger , thinke pastime . shortly shall heare , lou ' Father , loue Selfe , hope teach imagine - Enter Messenger . ? Newes ? Mes . Letters Lord Hamlet , Maiesty : Queene King . Hamlet ? brought ? Mes . Saylors Lord say , saw : giuen Claudio , receiu ' King . Laertes shall heare : Leaue vs . Exit Messenger High Mighty , shall know set naked Kingdome . morrow shall begge leaue see Kingly Eyes . shall ( first asking Pardon thereunto ) recount th ' Occasions sodaine , strange returne . Hamlet . meane ? rest come backe ? abuse ? thing ? Laer . Know hand ? Kin . ' Tis Hamlets Character , naked Postscript sayes alone : aduise ? Laer . ' lost Lord ; let come , warmes sicknesse heart , shall liue tell teeth ; Thus diddest thou Kin . Laertes , : otherwise rul ' ? Laer . ' l ' rerule peace Kin . thine owne peace : return ' , checking Voyage , meanes vndertake ; worke exployt ripe Deuice , Vnder shall choose fall ; death winde blame shall breath , euen Mother shall vncharge practice , call accident : two Monthes hence Gentleman Normandy , ' ue seene selfe , seru ' French , ran well Horsebacke ; Gallant witchcraft ' ; grew Seat , wondrous brought Horse , beene encorps ' demy - Natur ' braue Beast , farre past thought , forgery shapes trickes , Come short Laer . Norman ' ? Kin . Norman Laer . Vpon life Lamound Kin . Laer . know well , Brooch indeed , Iemme Nation Kin . Hee mad confession , gaue Masterly report , Art exercise defence ; Rapier especiall , cryed , ' would sight indeed , one could match Sir . report Hamlet envenom Enuy , could nothing doe wish begge , sodaine comming ore play ; Laer . , Lord ? Kin . Laertes Father deare ? like painting sorrow , face without heart ? Laer . aske ? Kin . thinke loue Father , know Loue begun Time : see passages proofe , Time qualifies sparke fire : Hamlet comes backe : would vndertake , show selfe Fathers sonne indeed , words ? Laer . cut throat ' th ' Church Kin . place indeed murder Sancturize ; Reuenge haue bounds : good Laertes doe , keepe close within Chamber , Hamlet return ' , shall know come home : Wee ' l put shall praise excellence , set double varnish fame Frenchman gaue , bring fine together , wager heads , remisse , generous , free contriuing , peruse Foiles ? ease , little shuffling , may choose Sword vnbaited , passe practice , Requit Father Laer . doo ' . purpose Ile annoint Sword : bought Vnction Mountebanke mortall , dipt knife , drawes blood , Cataplasme rare , Collected Simples haue Vertue Vnder Moone , saue thing death , scratcht withall : Ile touch point , contagion , gall slightly , may death Kin . Let ' thinke , Weigh conuenience time meanes May fit vs shape , faile ; drift looke bad performance , ' Twere better assaid ; therefore Proiect haue backe second , might hold , blast proofe : Soft , let see Wee ' l make solemne wager commings , ha ' : motion hot dry , make bowts violent end , cals drinke ; Ile haue prepar ' Challice nonce ; whereon sipping , chance escape venom ' stuck , purpose may hold ; sweet Queene . Enter Queene . Queen . One woe doth tread vpon anothers heele , fast ' l follow : Sister ' drown ' Laertes Laer . Drown ' ! ? Queen . Willow growes aslant Brooke , shewes hore leaues glassie streame : fantasticke Garlands come , Crow - flowers , Nettles , Daysies , long Purples , liberall Shepheards giue grosser name ; cold Maids doe Dead Mens Fingers call : pendant boughes , Coronet weeds Clambring hang ; enuious sliuer broke , downe weedy Trophies , selfe , Fell weeping Brooke , cloathes spred wide , Mermaid - like , bore vp , time chaunted snatches old tunes , one incapable owne distresse , like creature Natiue , indued Vnto Element : long could , Till garments , heauy drinke , Pul ' poore wretch melodious buy , muddy death Laer . Alas , drown ' ? Queen . Drown ' , drown ' Laer . much water hast thou poore Ophelia , therefore forbid teares : yet tricke , Nature custome holds , Let shame say ; gone woman : Adue Lord , haue speech fire , faine would blaze , folly doubts . Enter . Kin . Let ' follow , Gertrude : much doe calme rage ? feare giue start againe ; Therefore let ' follow . Exeunt . Enter two Clownes . Clown . bee buried Christian buriall , wilfully seekes owne saluation ? . tell thee , therefore make Graue straight , Crowner hath sate , finds Christian buriall Clo . , vnlesse drowned selfe owne defence ? . ' tis found Clo . must Se offendendo , cannot bee else : heere lies point ; drowne selfe wittingly , argues Act : Act hath three branches . Act doe performe ; argall drown ' selfe wittingly . Nay heare Goodman Deluer Clown . Giue leaue ; heere lies water ; good : heere stands man ; good : man goe water drowne himselfe ; nill , goes ; marke ? water come & drowne ; hee drownes himselfe . Argall , hee guilty owne death , shortens owne life . law ? Clo . marry ' , Crowners Quest Law . ha truth ' : beene Gentlewoman , shee haue beene buried Christian Buriall Clo . thou say ' st . pitty great folke haue countenance world drowne hang themselues , euen Christian . Come , Spade ; ancient Gentlemen , Gardiners , Ditchers Graue - makers ; hold vp Adams Profession . Gentleman ? Clo . first euer bore Armes . none Clo . , ar ' Heathen ? doth thou vnderstand Scripture ? Scripture sayes Adam dig ' ; could hee digge without Armes ? Ile put another question thee ; thou answerest purpose , confesse thy selfe - . Go Clo . builds stronger either Mason , Shipwright , Carpenter ? . Gallowes maker ; Frame outliues thousand Tenants Clo . like thy wit well good faith , Gallowes well ; well ? well doe ill : , thou dost ill say Gallowes built stronger Church : Argall , Gallowes may doe well thee . ' againe , Come . builds stronger Mason , Shipwright , Carpenter ? Clo . , tell , vnyoake . Marry , tell Clo . ' . Masse , cannot tell . Enter Hamlet Horatio farre . Clo . Cudgell thy braines ; dull Asse mend pace beating ; ask ' question next , say Graue - maker : Houses makes , lasts till Doomesday : go , get thee Yaughan , fetch stoupe Liquor . Sings . youth loue , loue , thought sweete : contract time behoue , thought nothing meete Ham . Ha ' fellow feeling businesse , sings Graue - making ? Hor . Custome hath made property easinesse Ham . ' Tis ee ' n ; hand little Imployment hath daintier sense Clowne sings . Age stealing steps hath caught clutch : hath shipped intill Land , neuer beene Ham . Scull tongue , could sing : knaue iowles th ' grownd , Caines Iaw - bone , first murther : might Pate Polititian Asse ' Offices : one could circumuent God , might ? Hor . might , Lord Ham . Courtier , could say , Good Morrow sweet Lord : dost thou , good Lord ? might Lord one , prais ' Lord ones Horse , meant begge ; might ? Hor . , Lord Ham . ee ' n : Lady Wormes , Chaplesse , knockt Mazard Sextons Spade ; heere ' fine Reuolution , wee tricke see ' . bones cost breeding , play Loggets ' em ? mine ake thinke ' Clowne sings . Pickhaxe Spade , Spade , shrowding - Sheete : Pit Clay made , Guest meete Ham . ' another : might bee Scull Lawyer ? Quiddits ? Quillets ? Cases ? Tenures , Tricks ? doe ' suffer rude knaue knocke Sconce dirty Shouell , tell Action Battery ? hum . fellow might ' time great buyer Land , Statutes , Recognizances , Fines , double Vouchers , Recoueries : fine Fines , recouery Recoueries , haue fine Pate full fine Dirt ? Vouchers vouch Purchases , double ones , length breadth paire Indentures ? Conueyances Lands hardly lye Boxe ; must Inheritor himselfe haue ? ha ? Hor . iot , Lord Ham . Parchment made Sheep - skinnes ? Hor . Lord , Calue - skinnes Ham . Sheepe Calues seek assurance . speake fellow : whose Graue ' Sir ? Clo . Mine Sir : Pit Clay made , Guest meete Ham . thinke thine indeed : thou liest ' Clo . lye ' Sir , therefore : part , doe lye ' ; yet mine Ham . Thou dost lye ' , ' say ' tis thine : ' tis dead , quicke , therefore thou lyest Clo . ' Tis quicke lye Sir , ' twill away againe Ham . man dost thou digge ? Clo . man Sir Ham . woman ? Clo . none neither Ham . buried ' ? Clo . One woman Sir ; rest Soule , shee ' dead Ham . absolute knaue ? wee must speake Carde , equiuocation vndoe vs : Lord Horatio , three yeares haue taken note , Age growne picked , toe Pesant comes neere heeles Courtier , hee galls Kibe . long hast thou Graue - maker ? Clo . dayes ' th ' yeare , came ' day last King Hamlet ' recame Fortinbras Ham . long since ? Clo . Cannot tell ? euery foole tell : day , young Hamlet borne , hee mad , sent England Ham . marry , sent England ? Clo . , mad ; hee shall recouer wits ; , ' great matter Ham . ? Clo . ' Twill seene , men mad Ham . came mad ? Clo . strangely say Ham . strangely ? Clo . Faith e ' ene loosing wits Ham . Vpon ground ? Clo . heere Denmarke : haue bin sixeteene heere , man Boy thirty yeares Ham . long man lie ' th ' earth ere rot ? Clo . Ifaith , rotten die ( haue many pocky Coarses adaies , scarce hold laying ) last eight yeare , nine yeare . Tanner last nine yeare Ham . , another ? Clo . sir , hide tan ' Trade , keepe water great . water , sore Decayer horson dead body . Heres Scull : Scul , laine earth three & twenty years Ham . Whose ? Clo . whoreson mad Fellowes ; Whose doe thinke ? Ham . Nay , know Clo . pestilence mad Rogue , pour ' Flaggon Renish head . Scull Sir , Scull sir , Yoricks Scull , Kings Iester Ham . ? Clo . E ' ene Ham . Let see . Alas poore Yorick , knew Horatio , fellow infinite Iest ; excellent fancy , hath borne backe thousand times : abhorred Imagination , gorge rises . Heere hung lipps , haue kist know oft . Iibes ? Gambals ? Songs ? flashes Merriment wont set Table Rore ? one mock Ieering ? Quite chopfalne ? get Ladies Chamber , tell , let paint inch thicke , fauour must come . Make laugh : prythee Horatio tell one thing Hor . ' Lord ? Ham . Dost thou thinke Alexander lookt ' fashion ' th ' earth ? Hor . E ' ene Ham . smelt ? Puh Hor . E ' ene , Lord Ham . base vses may returne Horatio . may Imagination trace Noble dust Alexander , till find stopping bunghole Hor . ' Twere consider : curiously consider Ham . faith , iot . follow thether modestie enough , & likeliehood lead ; thus . Alexander died : Alexander buried : Alexander returneth dust ; dust earth ; earth make Lome , Lome ( whereto conuerted ) might stopp Beere - barrell ? Imperiall Caesar , dead turn ' clay , Might stop hole keepe winde away . Oh , earth , kept world awe , patch Wall , ' expell winters flaw . soft , soft , aside ; heere comes King . Enter King , Queene , Laertes , Coffin , Lords attendant . Queene , Courtiers . follow , maimed rites ? doth betoken , Coarse follow , disperate hand , Fore owne life ; ' twas Estate . Couch , mark Laer . Cerimony else ? Ham . Laertes , Noble youth : Marke Laer . Cerimony else ? Priest . Obsequies haue bin farre inlarg ' . haue warrantie , death doubtfull , great Command , ' - swaies order , ground vnsanctified haue lodg ' , Till last Trumpet . charitable praier , Shardes , Flints , Peebles , throwne : Yet heere allowed Virgin Rites , Maiden strewments , bringing home Bell Buriall Laer . Must done ? Priest . done : prophane seruice dead , sing sage Requiem , rest peace - parted Soules Laer . Lay ' th ' earth , faire vnpolluted flesh , May Violets spring . tell thee ( churlish Priest ) Ministring Angell shall Sister , thou liest howling ? Ham . , faire Ophelia ? Queene . Sweets , sweet farewell . hop ' thou ' st haue bin Hamlets wife : thought thy Bride - bed haue deckt ( sweet Maid ) ' haue strew ' thy Graue Laer . Oh terrible woer , Fall ten times trebble , cursed head Whose wicked deed , thy Ingenious sence Depriu ' thee . Hold earth , Till haue caught mine armes : Leaps graue . pile dust , vpon quicke , dead , Till flat Mountaine haue made , ' top old Pelion , skyish head blew Olympus Ham . , whose griefes Beares Emphasis ? whose phrase Sorrow Coniure wandring Starres , makes stand Like wonder - wounded hearers ? , Hamlet Dane Laer . deuill take thy soule Ham . Thou prai ' st well , prythee take thy fingers throat ; Sir though Spleenatiue , rash , Yet haue something dangerous , let thy wisenesse feare . Away thy hand King . Pluck asunder Qu . Hamlet , Hamlet Gen . Good Lord quiet Ham . fight vppon Theme . Vntill eielids longer wag Qu . Oh Sonne , Theame ? Ham . lou ' Ophelia ; fortie thousand Brothers Could ( quantitie Loue ) Make vp summe . wilt thou ? King . Oh mad Laertes , Qu . loue God forbeare Ham . Come show thou ' lt doe . Woo ' weepe ? Woo ' fight ? Woo ' teare thy selfe ? Woo ' drinke vp Esile , eate Crocodile ? Ile doo ' . Dost thou come heere whine ; outface leaping Graue ? buried quicke , . thou prate Mountaines ; let throw Millions Akers vs ; till ground Sindging pate burning Zone , Make Ossa like wart . Nay , thou ' lt mouth , Ile rant well thou Kin . meere Madnesse : thus awhile fit worke : Anon patient female Doue , Golden Cuplet disclos ' ; silence sit drooping Ham . Heare Sir : reason vse thus ? lou ' euer ; matter : Let Hercules himselfe doe may , Cat Mew , Dogge haue day . Enter . Kin . pray good Horatio wait vpon , Strengthen patience last nights speech , Wee ' l put matter present push : Good Gertrude set watch ouer Sonne , Graue shall haue liuing Monument : houre quiet shortly shall see ; Till , patience proceeding . Exeunt . Enter Hamlet Horatio Ham . much Sir ; let see , doe remember Circumstance Hor . Remember Lord ? Ham . Sir , heart kinde fighting , would let sleepe ; thought lay Worse mutines Bilboes , rashly , ( praise rashnesse ) let vs know , indiscretion sometimes serues vs well , deare plots paule , teach vs , ' Diuinity shapes ends , Rough - hew Hor . certaine Ham . Vp Cabin sea - gowne scarft darke , Grop ' finde ; desire , Finger ' Packet , fine , withdrew mine owne roome againe , making bold , ( feares forgetting manners ) vnseale grand Commission , found Horatio , Oh royall knauery : exact command , Larded many seuerall sorts reason ; Importing Denmarks health , Englands , hoo , Bugges Goblins life , superuize leasure bated , stay grinding Axe , head struck Hor . Ist possible ? Ham . ' Commission , read leysure : wilt thou heare proceed ? Hor . beseech Ham . thus benetted round Villaines , Ere could make Prologue braines , begun Play . sate downe , Deuis ' new Commission , wrote faire , hold Statists doe , basenesse write faire ; laboured much forget learning : Sir , Yeomans seriuce : wilt thou know effects wrote ? Hor . , good Lord Ham . earnest Coniuration King , England faithfull Tributary , loue betweene , Palme flourish , Peace still wheaten Garland weare , stand Comma ' tweene amities , many like Assis great charge , view know Contents , Without debatement , lesse , bearers put sodaine death , shriuing time allowed Hor . seal ' ? Ham . , euen Heauen ordinate ; fathers Signet Purse , Modell Danish Seale : Folded Writ vp forme , Subscrib ' , gau ' th ' impression , plac ' safely , changeling neuer knowne : , next day Sea Fight , sement , Thou know ' st already Hor . Guildensterne Rosincrance , go ' Ham . man , make loue imployment neere Conscience ; debate Doth owne insinuation grow : ' Tis dangerous , baser nature comes Betweene passe , fell incensed points mighty opposites Hor . , King ? Ham . , thinkst thee , stand vpon hath kil ' King , whor ' Mother , Popt betweene th ' election hopes , Throwne Angle proper life , coozenage ; ' perfect conscience , quit arme ? ' damn ' let Canker nature come euill Hor . must shortly knowne England issue businesse Ham . short , interim ' mine , mans life ' say one : sorry good Horatio , Laertes forgot selfe ; image Cause , see Portraiture ; Ile count fauours : sure brauery griefe put Towring passion Hor . Peace , comes heere ? Enter young Osricke . Osr . Lordship right welcome back Denmarke Ham . humbly thank Sir , dost know waterflie ? Hor . good Lord Ham . Thy state gracious ; ' tis vice know : hath much Land , fertile ; let Beast Lord Beasts , Crib shall stand Kings Messe ; ' tis Chowgh ; saw spacious possession dirt Osr . Sweet Lord , friendship leysure , impart thing Maiesty Ham . receiue diligence spirit ; put Bonet right vse , ' tis head Osr . thanke Lordship , ' tis hot Ham . , beleeue mee ' tis cold , winde Northerly Osr . indifferent cold Lord indeed Ham . Mee thinkes soultry , hot Complexion Osr . Exceedingly , Lord , soultry , ' twere cannot tell : Lord , Maiesty bad signifie , ha ' laid great wager head : Sir , matter Ham . beseech remember Osr . Nay , good faith , mine ease good faith : Sir , ignorant excellence Laertes weapon Ham . ' weapon ? Osr . Rapier dagger Ham . ' two weapons ; well Osr . sir King ha ' wag ' six Barbary horses , impon ' take , sixe French Rapiers Poniards , assignes , Girdle , Hangers : three Carriages infaith deare fancy , responsiue hilts , delicate carriages , liberall conceit Ham . call Carriages ? Osr . Carriages Sir , hangers Ham . phrase would bee Germaine matter : could carry Cannon sides ; would might Hangers till ; sixe Barbary Horses sixe French Swords : Assignes , three liberall conceited Carriages , ' French Danish ; impon ' call ? Osr . King Sir , hath laid dozen passes betweene , hee shall exceed three hits ; hath one twelue mine , would come imediate tryall , Lordship would vouchsafe Answere Ham . answere ? Osr . meane Lord , opposition person tryall Ham . Sir , walke heere Hall ; please Maiestie , ' tis breathing time day ; let Foyles bee brought , Gentleman willing , King hold purpose ; win : , Ile gaine nothing shame , odde hits Osr . Shall redeliuer ee ' n ? Ham . effect Sir , flourish nature Osr . commend duty Lordship Ham . , ; hee well commend himselfe , tongues else ' tongue Hor . Lapwing runs away shell head Ham . Complie Dugge hee suck ' : thus mine Beauty know drossie age dotes ; got tune time , outward habite encounter , kinde yesty collection , carries & fond winnowed opinions ; doe blow tryalls : Bubbles Hor . lose wager , Lord Ham . doe thinke , since went France , haue beene continuall practice ; shall winne oddes : thou wouldest thinke heere heart : matter Hor . Nay , good Lord Ham . foolery ; kinde gain - giuing would perhaps trouble woman Hor . minde dislike thing , obey . forestall repaire hither , say fit Ham . whit , defie Augury ; ' speciall Prouidence fall sparrow . , ' tis come : bee come , bee : ; yet come ; readinesse , since man ha ' ought leaues . ' leaue betimes ? Enter King , Queene , Laertes Lords , Attendants Foyles , Gauntlets , Table Flagons Wine . Kin . Come Hamlet , come , take hand Ham . Giue pardon Sir , ' ue done wrong , pardon ' Gentleman . presence knowes , must needs haue heard punisht sore distraction ? haue done might nature honour , exception Roughly awake , heere proclaime madnesse : ' Hamlet wrong ' Laertes ? Neuer Hamlet . Hamlet himselfe tane away : ' himselfe , ' wrong Laertes , Hamlet , Hamlet denies : ? Madnesse ? ' , Hamlet Faction wrong ' , madnesse poore Hamlets Enemy . Sir , Audience , Let disclaiming purpos ' euill , Free farre generous thoughts , haue shot mine Arrow ' house , hurt Mother Laer . satisfied Nature , Whose motiue case stirre Reuenge . termes Honor stand aloofe , reconcilement , Till elder Masters knowne Honor , haue voyce , president peace keepe name vngorg ' . till time , receiue offer ' loue like loue , wil wrong Ham . embrace freely , Brothers wager frankely play . Giue vs Foyles : Come Laer . Come one Ham . Ile foile Laertes , mine ignorance , Skill shall like Starre ' th ' darkest night , Sticke fiery indeede Laer . mocke Sir Ham . hand King . Giue Foyles yong Osricke , Cousen Hamlet , know wager Ham . Verie well Lord , Grace hath laide oddes ' th ' weaker side King . feare , haue seene : since better ' , haue therefore oddes Laer . heauy , Let see another Ham . likes well , Foyles haue length . Prepare play . Osricke . good Lord King . Set Stopes wine vpon Table : Hamlet giue first , second hit , quit answer third exchange , Let Battlements Ordinance fire , King shal drinke Hamlets better breath , Cup vnion shal throw Richer , foure successiue Kings Denmarkes Crowne haue worne . Giue Cups , let Kettle Trumpets speake , Trumpet Cannoneer without , Cannons Heauens , Heauen Earth , King drinkes Hamlet . Come , begin , Iudges beare wary eye Ham . Come sir Laer . Come sir . play . Ham . One Laer . Ham . Iudgement Osr . hit , palpable hit Laer . Well : againe King . Stay , giue drinke . Hamlet , Pearle thine , ' thy health . Giue cup , Trumpets sound , shot goes . Ham . Ile play bout first , set - . Come : Another hit ; say ? Laer . touch , touch , confesse King . Sonne shall win Qu . ' fat , scant breath . Heere ' Napkin , rub thy browes , Queene Carowses thy fortune , Hamlet Ham . Good Madam King . Gertrude , drinke Qu . Lord ; pray pardon King . poyson ' Cup , late Ham . dare drinke yet Madam , Qu . Come , let wipe thy face Laer . Lord , Ile hit King . thinke ' Laer . yet ' tis almost ' gainst conscience Ham . Come third . Laertes , dally , pray passe best violence , affear ' make wanton Laer . Say ? Come . Play . Osr . Nothing neither way Laer . Haue . scuffling change Rapiers . King . Part , incens ' Ham . Nay come , againe Osr . Looke Queene hoa Hor . bleed sides . ' Lord ? Osr . ' Laertes ? Laer . Woodcocke mine Sprindge , Osricke , iustly kill ' mine owne Treacherie Ham . Queene ? King . sounds see bleede Qu . , , drinke , drinke . Oh deere Hamlet , drinke , drinke , poyson ' Ham . Oh Villany ! ? Let doore lock ' . Treacherie , seeke Laer . heere Hamlet . Hamlet , thou art slaine , Medicine world thee good . thee , halfe houre life ; Treacherous Instrument thy hand , Vnbated envenom ' : foule practise Hath turn ' selfe . Loe , heere lye , Neuer rise againe : Thy Mothers poyson ' : , King , King ' blame Ham . point envenom ' , venome thy worke . Hurts King . . Treason , Treason King . yet defend Friends , hurt Ham . Heere thou incestuous , murdrous , Damned Dane , Drinke Potion : thy Vnion heere ? Follow Mother . King Dyes . Laer . iustly seru ' . poyson temp ' red himselfe : Exchange forgiuenesse , Noble Hamlet ; Mine Fathers death come vpon thee , thine . Dyes . Ham . Heauen make thee free , follow thee . dead Horatio , wretched Queene adiew , looke pale , tremble chance , Mutes audience acte : time ( fell Sergeant death strick ' Arrest ) oh could tell . let : Horatio , dead , Thou liu ' st , report causes right vnsatisfied Hor . Neuer beleeue . Antike Roman Dane : Heere ' yet Liquor left Ham . th ' art man , giue Cup . Let go , Heauen Ile haue ' . Oh good Horatio , wounded name , ( Things standing thus vnknowne ) shall liue behind . thou ' st euer hold thy heart , Absent thee felicitie awhile , harsh world draw thy breath paine , tell Storie . March afarre , shout within . warlike noyse ? Enter Osricke . Osr . Yong Fortinbras , conquest come fro [ ] Poland th ' Ambassadors England giues warlike volly Ham . dye Horatio : potent poyson quite ore - crowes spirit , cannot liue heare Newes England , prophesie th ' election lights Fortinbras , ha ' dying voyce , tell occurrents lesse , haue solicited . rest silence . , , , . Dyes Hora . cracke Noble heart : Goodnight sweet Prince , flights Angels sing thee thy rest , ' Drumme come hither ? Enter Fortinbras English Ambassador , Drumme , Colours , Attendants . Fortin . sight ? Hor . ye would see ; ought woe , wonder , cease search . quarry cries hauocke . Oh proud death , feast toward thine eternall Cell . thou many Princes , shoote , bloodily hast strooke Amb . sight dismall , affaires England come late , eares senselesse giue vs hearing , tell command ' ment fulfill ' , Rosincrance Guildensterne dead : haue thankes ? Hor . mouth , th ' abilitie life thanke : neuer gaue command ' ment death . since iumpe vpon bloodie question , Polake warres , England heere arriued . Giue order bodies High stage placed view , let speake th ' yet vnknowing world , things came . shall heare carnall , bloudie , vnnaturall acts , accidentall iudgements , casuall slaughters death ' put cunning , forc ' cause , vpshot , purposes mistooke , Falne Inuentors head . Truly deliuer . Let vs hast heare , call Noblest Audience . , sorrow , embrace Fortune , haue Rites memory Kingdome , claime , vantage doth Inuite , Hor . shall haue alwayes cause speake , mouth Whose voyce draw : let presently perform ' , Euen whiles mens mindes wilde , Lest mischance plots , errors happen . Let foure Captaines Beare Hamlet like Soldier Stage , likely , beene put haue prou ' royally : passage , Souldiours Musicke , rites Warre Speake lowdly . Take vp body ; sight Becomes Field , heere shewes much amis . Go , bid Souldiers shoote . Exeunt . Marching : , Peale Ordenance shot . FINIS . tragedie HAMLET , Prince Denmarke .\n"
          ]
        }
      ]
    },
    {
      "cell_type": "markdown",
      "source": [
        "## NPS Chat Corpus:\n",
        "#### Description: A collection of chat room conversations.\n",
        "#### Usage: Useful for studying informal, conversational language.\n",
        "### Command to Load: nltk.corpus.nps_chat"
      ],
      "metadata": {
        "id": "w25w9Wdp7IY7"
      }
    },
    {
      "cell_type": "code",
      "source": [
        "from nltk.corpus import nps_chat\n",
        "\n",
        "# Load all posts from the corpus\n",
        "posts = nps_chat.posts()\n",
        "print(f\"Total number of posts: {len(posts)}\")\n",
        "\n",
        "# Example of the first few posts\n",
        "print(\"First 3 posts:\")\n",
        "for post in posts[:3]:\n",
        "    print(post)\n"
      ],
      "metadata": {
        "colab": {
          "base_uri": "https://localhost:8080/"
        },
        "id": "cgWdGXIW7V2G",
        "outputId": "93324c24-b1b6-43a8-feb5-105539f4c413"
      },
      "execution_count": null,
      "outputs": [
        {
          "output_type": "stream",
          "name": "stdout",
          "text": [
            "Total number of posts: 10567\n",
            "First 3 posts:\n",
            "['now', 'im', 'left', 'with', 'this', 'gay', 'name']\n",
            "[':P']\n",
            "['PART']\n"
          ]
        }
      ]
    },
    {
      "cell_type": "code",
      "source": [
        "# Load the file IDs to see different chatroom categories\n",
        "chatroom_files = nps_chat.fileids()\n",
        "print(f\"Available chatroom categories: {chatroom_files}\")\n",
        "\n",
        "# Load posts from a specific chatroom category\n",
        "teen_posts = nps_chat.posts('10-19-20s_706posts.xml')\n",
        "print(f\"Number of posts in '10-19-20s' chatroom: {len(teen_posts)}\")\n",
        "print(\"First 3 posts from '10-19-20s' chatroom:\")\n",
        "for post in teen_posts[:3]:\n",
        "    print(post)\n"
      ],
      "metadata": {
        "colab": {
          "base_uri": "https://localhost:8080/"
        },
        "id": "R1ts5rQWAd_N",
        "outputId": "79372577-4b23-4135-804d-b16a6cdebdc7"
      },
      "execution_count": null,
      "outputs": [
        {
          "output_type": "stream",
          "name": "stdout",
          "text": [
            "Available chatroom categories: ['10-19-20s_706posts.xml', '10-19-30s_705posts.xml', '10-19-40s_686posts.xml', '10-19-adults_706posts.xml', '10-24-40s_706posts.xml', '10-26-teens_706posts.xml', '11-06-adults_706posts.xml', '11-08-20s_705posts.xml', '11-08-40s_706posts.xml', '11-08-adults_705posts.xml', '11-08-teens_706posts.xml', '11-09-20s_706posts.xml', '11-09-40s_706posts.xml', '11-09-adults_706posts.xml', '11-09-teens_706posts.xml']\n",
            "Number of posts in '10-19-20s' chatroom: 706\n",
            "First 3 posts from '10-19-20s' chatroom:\n",
            "['now', 'im', 'left', 'with', 'this', 'gay', 'name']\n",
            "[':P']\n",
            "['PART']\n"
          ]
        }
      ]
    },
    {
      "cell_type": "code",
      "source": [],
      "metadata": {
        "id": "r1OzANYIAeZZ"
      },
      "execution_count": null,
      "outputs": []
    }
  ]
}